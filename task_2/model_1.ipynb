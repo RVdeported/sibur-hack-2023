{
 "cells": [
  {
   "cell_type": "code",
   "execution_count": null,
   "metadata": {},
   "outputs": [],
   "source": []
  },
  {
   "cell_type": "markdown",
   "metadata": {},
   "source": []
  },
  {
   "cell_type": "code",
   "execution_count": 28,
   "metadata": {},
   "outputs": [],
   "source": [
    "from matplotlib import pyplot as plt"
   ]
  },
  {
   "cell_type": "code",
   "execution_count": 29,
   "metadata": {},
   "outputs": [],
   "source": [
    "import os\n",
    "from tqdm import tqdm\n",
    "import pathlib\n",
    "import numpy as np\n",
    "import pandas as pd\n",
    "import pickle\n",
    "from torch.utils.tensorboard import SummaryWriter\n",
    "\n",
    "from sklearn.metrics import mean_absolute_percentage_error as mape\n",
    "from sklearn.preprocessing import MinMaxScaler\n",
    "\n",
    "import torch as t\n",
    "\n",
    "from datetime import datetime as dt\n",
    "\n",
    "DEVICE = \"cuda\" if t.cuda.is_available() else 'cpu'\n",
    "\n",
    "tqdm.pandas()\n",
    "pd.set_option('display.max_columns', None)"
   ]
  },
  {
   "cell_type": "code",
   "execution_count": 30,
   "metadata": {},
   "outputs": [],
   "source": [
    "DATA_DIR = pathlib.Path(\"./data/\")\n",
    "RS = 3984765"
   ]
  },
  {
   "cell_type": "code",
   "execution_count": 31,
   "metadata": {},
   "outputs": [
    {
     "name": "stdout",
     "output_type": "stream",
     "text": [
      "(153417, 27)\n"
     ]
    },
    {
     "data": {
      "text/plain": [
       "(46026, 27)"
      ]
     },
     "execution_count": 31,
     "metadata": {},
     "output_type": "execute_result"
    }
   ],
   "source": [
    "train_df = pd.read_parquet(DATA_DIR.joinpath(\"train.parquet\"))\n",
    "print(train_df.shape)\n",
    "index_split = int(train_df.shape[0] * 0.7)\n",
    "test_df = train_df[index_split:]\n",
    "train_df = train_df[:index_split]\n",
    "test_df.shape"
   ]
  },
  {
   "cell_type": "code",
   "execution_count": 32,
   "metadata": {},
   "outputs": [
    {
     "data": {
      "text/plain": [
       "63.37562561247079"
      ]
     },
     "execution_count": 32,
     "metadata": {},
     "output_type": "execute_result"
    }
   ],
   "source": [
    "train_df[\"feature0\"].quantile(0.99)"
   ]
  },
  {
   "cell_type": "code",
   "execution_count": 33,
   "metadata": {},
   "outputs": [
    {
     "data": {
      "text/plain": [
       "tensor([0.9507, 0.3289])"
      ]
     },
     "execution_count": 33,
     "metadata": {},
     "output_type": "execute_result"
    }
   ],
   "source": [
    "t.rand(2)"
   ]
  },
  {
   "cell_type": "code",
   "execution_count": 34,
   "metadata": {},
   "outputs": [],
   "source": [
    "\n",
    "\n",
    "class Pipe:\n",
    "    def __init__(self, cols_to_short, batch_size=64, noise_str=0.01):\n",
    "        self.min_max = MinMaxScaler()\n",
    "        self.cols_to_short = cols_to_short\n",
    "        self.batch_size = batch_size\n",
    "        self.noise_str = noise_str\n",
    "\n",
    "\n",
    "    def fit(self, X: pd.DataFrame):\n",
    "        X_ = self.quntize(X)\n",
    "        X_[\"feature4\"] = (X_[\"feature4\"] == \"gas1\") * 1\n",
    "        self.min_max.fit(X_)\n",
    "\n",
    "    def quntize(self, X):\n",
    "        X_ = X.copy()\n",
    "        \n",
    "        for col in self.cols_to_short:\n",
    "            X_ = X_[X_[col] < X_[col].quantile(0.999)]\n",
    "        \n",
    "        return X_\n",
    "\n",
    "    def transform(self, X, y=None, train_df=False):\n",
    "        X_ = X.copy()\n",
    "        if y is not None:\n",
    "            y_ = y.copy()\n",
    "\n",
    "\n",
    "        if train_df:\n",
    "            X_ = self.quntize(X_)\n",
    "        if train_df and y is not None:\n",
    "            y_ = y_.iloc[X_.index]\n",
    "        \n",
    "\n",
    "        X_[\"feature4\"] = (X_[\"feature4\"] == \"gas1\") * 1\n",
    "        \n",
    "\n",
    "        X_ = pd.DataFrame(self.min_max.transform(X_), columns=X_.columns) \n",
    "        X_[\"cluster\"] = (X_[\"feature4\"] == 1) * 1\n",
    "        X_.drop(\"feature4\", axis=1, inplace=True)\n",
    "\n",
    "        X_t = t.tensor(X_.to_numpy(), dtype=t.float32)\n",
    "\n",
    "        if train_df:\n",
    "            noise = t.zeros(X_t.shape)\n",
    "            noise[:,:-1] = t.rand((X_t.shape[0], X_t.shape[1]-1)) * self.noise_str\n",
    "            X_t = t.cat(\n",
    "                [\n",
    "                    # X_t,\n",
    "                    X_t + noise\n",
    "                ]\n",
    "            )\n",
    "\n",
    "\n",
    "        if y is not None:\n",
    "            y_t = t.tensor(y_.to_numpy(), dtype=t.float32)\n",
    "            if train_df:\n",
    "                y_t = t.cat([y_t])    \n",
    "            ds = t.utils.data.TensorDataset(X_t, y_t)\n",
    "        else:\n",
    "            ds = t.utils.data.TensorDataset(X_t)\n",
    "\n",
    "        ldr = t.utils.data.DataLoader(ds, batch_size=self.batch_size)\n",
    "\n",
    "        return ds, ldr\n",
    "    \n",
    "    def pack(self, path):\n",
    "        to_pack = {\n",
    "            \"scaler\" : self.min_max,\n",
    "            \"cols\" : self.cols_to_short,\n",
    "            \"batch_size\" : self.batch_size\n",
    "        }\n",
    "        with open(path, \"wb+\") as f:\n",
    "            pickle.dump(to_pack, f)\n",
    "    \n",
    "    def unpack(self, path):\n",
    "        with open(path, \"rb\") as f:\n",
    "            params = pickle.load(f)\n",
    "\n",
    "        self.batch_size = params[\"batch_size\"]\n",
    "        self.min_max = params[\"scaler\"]\n",
    "        self.cols_to_short = params[\"cols\"] \n",
    "\n",
    "    \n",
    "    \n",
    "\n",
    "pipe = Pipe(cols_to_short=[\n",
    "    \"feature0\",\n",
    "    \"feature1\",\n",
    "    \"feature2\",\n",
    "    \"feature3\",\n",
    "    \"feature5\",\n",
    "    \"feature7\",\n",
    "    \"feature12\",\n",
    "    \"feature15\",\n",
    "    \"feature17\",\n",
    "    ], batch_size=512,\n",
    "    noise_str=0.01)\n",
    "\n",
    "pipe.fit(train_df.drop([\"target0\", \"target1\"], axis=1))\n"
   ]
  },
  {
   "cell_type": "code",
   "execution_count": 35,
   "metadata": {},
   "outputs": [
    {
     "name": "stdout",
     "output_type": "stream",
     "text": [
      "(107391, 27)\n",
      "torch.Size([106424, 25])\n",
      "(46026, 27)\n",
      "torch.Size([46026, 25])\n"
     ]
    }
   ],
   "source": [
    "print(train_df.shape)\n",
    "train_ds, train_ldr = pipe.transform(\n",
    "    train_df.drop([\"target0\", \"target1\"], axis=1), \n",
    "    train_df[[\"target0\", \"target1\"]],\n",
    "    train_df=True)\n",
    "print(train_ds.tensors[0].shape)\n",
    "\n",
    "print(test_df.shape)\n",
    "test_ds, test_ldr = pipe.transform(\n",
    "    test_df.drop([\"target0\", \"target1\"], axis=1),\n",
    "    test_df[[\"target0\", \"target1\"]]\n",
    "    )\n",
    "print(test_ds.tensors[0].shape)"
   ]
  },
  {
   "cell_type": "code",
   "execution_count": 36,
   "metadata": {},
   "outputs": [],
   "source": [
    "class fc_model_res_d(t.nn.Module):\n",
    "    def __init__(self, input_dim, stacks=3, layers=[256, 16, 256], device='cpu'):\n",
    "        super().__init__()\n",
    "        self.device=device\n",
    "        self.stacks=stacks\n",
    "\n",
    "        self.blocks_1 = t.nn.ParameterList([])\n",
    "        self.rec_1 = t.nn.ParameterList([])\n",
    "        self.pred_1 = t.nn.ParameterList([])\n",
    "        for _ in range(stacks):\n",
    "            self.blocks_1.append(\n",
    "                t.nn.Sequential(\n",
    "                    t.nn.Linear(input_dim, layers[0]),\n",
    "                    t.nn.ReLU(),\n",
    "                    t.nn.Linear(layers[0], layers[1]),\n",
    "                    t.nn.ReLU(),\n",
    "            ))\n",
    "\n",
    "            self.rec_1.append(\n",
    "                t.nn.Sequential(\n",
    "                    t.nn.Linear(layers[1], layers[2]),\n",
    "                    t.nn.ReLU(),\n",
    "                    t.nn.Linear(layers[2], input_dim),\n",
    "                )\n",
    "            )\n",
    "\n",
    "            self.pred_1.append(\n",
    "                t.nn.Sequential(\n",
    "                t.nn.Linear(layers[1], 2),\n",
    "                )\n",
    "            )\n",
    "\n",
    "        self.blocks_2 = t.nn.ParameterList([])\n",
    "        self.rec_2 = t.nn.ParameterList([])\n",
    "        self.pred_2 = t.nn.ParameterList([])\n",
    "        for _ in range(stacks):\n",
    "            self.blocks_2.append(\n",
    "                t.nn.Sequential(\n",
    "                    t.nn.Linear(input_dim, layers[0]),\n",
    "                    t.nn.ReLU(),\n",
    "                    t.nn.Linear(layers[0], layers[1]),\n",
    "                    t.nn.ReLU(),\n",
    "            ))\n",
    "\n",
    "            self.rec_2.append(\n",
    "                t.nn.Sequential(\n",
    "                    t.nn.Linear(layers[1], layers[2]),\n",
    "                    t.nn.ReLU(),\n",
    "                    t.nn.Linear(layers[2], input_dim),\n",
    "                )\n",
    "            )\n",
    "\n",
    "            self.pred_2.append(\n",
    "                t.nn.Sequential(\n",
    "                t.nn.Linear(layers[1], 2),\n",
    "                )\n",
    "            )\n",
    "\n",
    "\n",
    "        \n",
    "\n",
    "    def forward(self, X):\n",
    "        out = t.zeros((X.shape[0], 2), device=self.device, dtype=t.float32)\n",
    "        \n",
    "        inds_one = (X[:, -1] == t.scalar_tensor(1)).nonzero().T[0]\n",
    "        inds_zero = (X[:, -1] == t.scalar_tensor(0)).nonzero().T[0]\n",
    "        \n",
    "        res_1 = X[inds_zero]\n",
    "        res_2 = X[inds_one]\n",
    "\n",
    "        for i in range(self.stacks):\n",
    "            step_1 = self.blocks_1[i](res_1)\n",
    "            res_1 = self.rec_1[i](step_1)\n",
    "            out[inds_zero] += self.pred_1[i](step_1)\n",
    "\n",
    "            step_2 = self.blocks_1[i](res_2)\n",
    "            res_2 = self.rec_1[i](step_2)\n",
    "            out[inds_one] += self.pred_2[i](step_2)\n",
    "\n",
    "        return out\n",
    "\n"
   ]
  },
  {
   "cell_type": "code",
   "execution_count": 37,
   "metadata": {},
   "outputs": [
    {
     "data": {
      "text/plain": [
       "tensor([[-0.3339,  0.2044],\n",
       "        [-0.2878,  0.0998],\n",
       "        [-0.3320,  0.2106],\n",
       "        [-0.3451,  0.2130],\n",
       "        [-0.2902,  0.1114],\n",
       "        [-0.3208,  0.2007],\n",
       "        [-0.2803,  0.1156],\n",
       "        [-0.2933,  0.1013],\n",
       "        [-0.2725,  0.1233],\n",
       "        [-0.3303,  0.2055]], grad_fn=<IndexPutBackward0>)"
      ]
     },
     "execution_count": 37,
     "metadata": {},
     "output_type": "execute_result"
    }
   ],
   "source": [
    "model = fc_model_res_d(train_ds.tensors[0].shape[1])\n",
    "model(train_ds.tensors[0][:10])"
   ]
  },
  {
   "cell_type": "code",
   "execution_count": 38,
   "metadata": {},
   "outputs": [],
   "source": [
    "\n",
    "\n",
    "def train(train_ldr, \n",
    "          test_ldr, \n",
    "          model, \n",
    "          optimizer, \n",
    "          loss_f, \n",
    "          epochs=10, \n",
    "          device='cpu',\n",
    "          sm = None,\n",
    "          save_each = 20,\n",
    "          noise=0.0):\n",
    "    \n",
    "    global pipe\n",
    "\n",
    "    bar = tqdm(range(epochs))\n",
    "    for epoch in bar:\n",
    "        loss_cum = 0\n",
    "        for X, y in train_ldr:\n",
    "            optimizer.zero_grad()\n",
    "            X = X + t.cat(\n",
    "                [t.rand((X.shape[0], X.shape[1] - 1)) * noise,\n",
    "                 t.zeros((X.shape[0], 1))\n",
    "                 ], dim=1)\n",
    "            out = model(X.to(device=device))\n",
    "            loss = loss_f(out, y.to(device=device))\n",
    "            loss.backward()\n",
    "            loss_cum += loss\n",
    "            optimizer.step()\n",
    "\n",
    "        eval_test = eval(test_ldr, model, device)\n",
    "        eval_train = eval(train_ldr, model, device)\n",
    "        bar.set_description(f'''epoch {epoch}, loss {loss_cum:.3f}, mape_train {(eval_train * 100).round(2)}, mape_test {(eval_test * 100).round(2)}''')\n",
    "        if sm is not None:\n",
    "            sm.add_scalar('Loss/train', loss_cum, epoch)\n",
    "            sm.add_scalar('MAPE/train', eval_train.sum() / 2, epoch)\n",
    "            sm.add_scalar('MAPE/test', eval_test.sum() / 2, epoch)\n",
    "        if epoch % 10 == 0:\n",
    "            save_model(model, pipe, \"./models/\", \"fc_\")\n",
    "\n",
    "\n",
    "\n",
    "\n",
    "def eval(test_ldr, model, device='cpu'):\n",
    "    \n",
    "    loss = np.array([0, 0], dtype=np.float32)\n",
    "    i=0\n",
    "    for X, y in test_ldr:\n",
    "        with t.no_grad():\n",
    "            out = model(X.to(device=device))\n",
    "            loss += mape(y, out.cpu().detach().numpy(), multioutput='raw_values')\n",
    "            i+=1\n",
    "\n",
    "    return loss / i\n",
    "\n",
    "def pred(ldr, model, device='cpu'):\n",
    "    res = t.tensor([], dtype=t.float32)\n",
    "\n",
    "    with t.no_grad():\n",
    "        for X, y in ldr:\n",
    "            out = model(X.to(device=device)).to('cpu')\n",
    "            res = t.cat([res,out], axis=0)\n",
    "    \n",
    "    res = pd.DataFrame(\n",
    "        res.detach().numpy(),\n",
    "        columns = [\"target0\", \"target1\"]\n",
    "    )\n",
    "\n",
    "    return res\n",
    "\n",
    "\n",
    "\n",
    "def save_model(model, pipe, path, prefix):\n",
    "    timestamp = dt.now().strftime('%Y-%m-%d %H:%M:%S')\n",
    "    filename_m = prefix + \"model_\" + timestamp + \".t\"\n",
    "    filename_p = prefix + \"pipe_\" + timestamp + \".pckl\"\n",
    "    \n",
    "    t.save(model.state_dict(), path + filename_m)\n",
    "    pipe.pack(path + filename_p)\n",
    "\n",
    "    "
   ]
  },
  {
   "cell_type": "code",
   "execution_count": 39,
   "metadata": {},
   "outputs": [
    {
     "name": "stderr",
     "output_type": "stream",
     "text": [
      "epoch 499, loss 145.321, mape_train [1.27 5.01], mape_test [1.35 6.22]: 100%|██████████| 500/500 [16:56<00:00,  2.03s/it]   \n"
     ]
    }
   ],
   "source": [
    "model = fc_model_res_d(train_ds.tensors[0].shape[1], stacks=5, layers=[64, 8, 64], device=DEVICE).to(device=DEVICE)\n",
    "optimizer = t.optim.Adam(model.parameters())\n",
    "loss_f = t.nn.MSELoss()\n",
    "\n",
    "sm = SummaryWriter(\"./runs\")\n",
    "\n",
    "train(train_ldr, \n",
    "      test_ldr, \n",
    "      model, \n",
    "      optimizer, \n",
    "      loss_f, \n",
    "      500, \n",
    "      DEVICE, \n",
    "      sm, \n",
    "      noise=0.05)\n",
    "save_model(model, pipe, \"./models/\", \"model_linear_\")"
   ]
  },
  {
   "cell_type": "code",
   "execution_count": 40,
   "metadata": {},
   "outputs": [
    {
     "name": "stderr",
     "output_type": "stream",
     "text": [
      "epoch 31, loss 82.417, mape_train [0.94 3.6 ], mape_test [1.03 4.73]:  16%|█▌        | 32/200 [01:05<05:42,  2.04s/it]\n"
     ]
    },
    {
     "ename": "KeyboardInterrupt",
     "evalue": "",
     "output_type": "error",
     "traceback": [
      "\u001b[0;31m---------------------------------------------------------------------------\u001b[0m",
      "\u001b[0;31mKeyboardInterrupt\u001b[0m                         Traceback (most recent call last)",
      "Cell \u001b[0;32mIn[40], line 1\u001b[0m\n\u001b[0;32m----> 1\u001b[0m train(train_ldr, test_ldr, model, optimizer, loss_f, \u001b[39m200\u001b[39;49m, DEVICE, sm, noise\u001b[39m=\u001b[39;49m\u001b[39m0.03\u001b[39;49m)\n\u001b[1;32m      2\u001b[0m save_model(model, pipe, \u001b[39m\"\u001b[39m\u001b[39m./models/\u001b[39m\u001b[39m\"\u001b[39m, \u001b[39m\"\u001b[39m\u001b[39mmodel_linear_\u001b[39m\u001b[39m\"\u001b[39m)\n",
      "Cell \u001b[0;32mIn[38], line 23\u001b[0m, in \u001b[0;36mtrain\u001b[0;34m(train_ldr, test_ldr, model, optimizer, loss_f, epochs, device, sm, save_each, noise)\u001b[0m\n\u001b[1;32m     18\u001b[0m optimizer\u001b[39m.\u001b[39mzero_grad()\n\u001b[1;32m     19\u001b[0m X \u001b[39m=\u001b[39m X \u001b[39m+\u001b[39m t\u001b[39m.\u001b[39mcat(\n\u001b[1;32m     20\u001b[0m     [t\u001b[39m.\u001b[39mrand((X\u001b[39m.\u001b[39mshape[\u001b[39m0\u001b[39m], X\u001b[39m.\u001b[39mshape[\u001b[39m1\u001b[39m] \u001b[39m-\u001b[39m \u001b[39m1\u001b[39m)) \u001b[39m*\u001b[39m noise,\n\u001b[1;32m     21\u001b[0m      t\u001b[39m.\u001b[39mzeros((X\u001b[39m.\u001b[39mshape[\u001b[39m0\u001b[39m], \u001b[39m1\u001b[39m))\n\u001b[1;32m     22\u001b[0m      ], dim\u001b[39m=\u001b[39m\u001b[39m1\u001b[39m)\n\u001b[0;32m---> 23\u001b[0m out \u001b[39m=\u001b[39m model(X\u001b[39m.\u001b[39;49mto(device\u001b[39m=\u001b[39;49mdevice))\n\u001b[1;32m     24\u001b[0m loss \u001b[39m=\u001b[39m loss_f(out, y\u001b[39m.\u001b[39mto(device\u001b[39m=\u001b[39mdevice))\n\u001b[1;32m     25\u001b[0m loss\u001b[39m.\u001b[39mbackward()\n",
      "File \u001b[0;32m/media/thornail/LinuxOther/anaconda3/envs/ML2/lib/python3.10/site-packages/torch/nn/modules/module.py:1501\u001b[0m, in \u001b[0;36mModule._call_impl\u001b[0;34m(self, *args, **kwargs)\u001b[0m\n\u001b[1;32m   1496\u001b[0m \u001b[39m# If we don't have any hooks, we want to skip the rest of the logic in\u001b[39;00m\n\u001b[1;32m   1497\u001b[0m \u001b[39m# this function, and just call forward.\u001b[39;00m\n\u001b[1;32m   1498\u001b[0m \u001b[39mif\u001b[39;00m \u001b[39mnot\u001b[39;00m (\u001b[39mself\u001b[39m\u001b[39m.\u001b[39m_backward_hooks \u001b[39mor\u001b[39;00m \u001b[39mself\u001b[39m\u001b[39m.\u001b[39m_backward_pre_hooks \u001b[39mor\u001b[39;00m \u001b[39mself\u001b[39m\u001b[39m.\u001b[39m_forward_hooks \u001b[39mor\u001b[39;00m \u001b[39mself\u001b[39m\u001b[39m.\u001b[39m_forward_pre_hooks\n\u001b[1;32m   1499\u001b[0m         \u001b[39mor\u001b[39;00m _global_backward_pre_hooks \u001b[39mor\u001b[39;00m _global_backward_hooks\n\u001b[1;32m   1500\u001b[0m         \u001b[39mor\u001b[39;00m _global_forward_hooks \u001b[39mor\u001b[39;00m _global_forward_pre_hooks):\n\u001b[0;32m-> 1501\u001b[0m     \u001b[39mreturn\u001b[39;00m forward_call(\u001b[39m*\u001b[39;49margs, \u001b[39m*\u001b[39;49m\u001b[39m*\u001b[39;49mkwargs)\n\u001b[1;32m   1502\u001b[0m \u001b[39m# Do not call functions when jit is used\u001b[39;00m\n\u001b[1;32m   1503\u001b[0m full_backward_hooks, non_full_backward_hooks \u001b[39m=\u001b[39m [], []\n",
      "Cell \u001b[0;32mIn[36], line 72\u001b[0m, in \u001b[0;36mfc_model_res_d.forward\u001b[0;34m(self, X)\u001b[0m\n\u001b[1;32m     69\u001b[0m res_2 \u001b[39m=\u001b[39m X[inds_one]\n\u001b[1;32m     71\u001b[0m \u001b[39mfor\u001b[39;00m i \u001b[39min\u001b[39;00m \u001b[39mrange\u001b[39m(\u001b[39mself\u001b[39m\u001b[39m.\u001b[39mstacks):\n\u001b[0;32m---> 72\u001b[0m     step_1 \u001b[39m=\u001b[39m \u001b[39mself\u001b[39;49m\u001b[39m.\u001b[39;49mblocks_1[i](res_1)\n\u001b[1;32m     73\u001b[0m     res_1 \u001b[39m=\u001b[39m \u001b[39mself\u001b[39m\u001b[39m.\u001b[39mrec_1[i](step_1)\n\u001b[1;32m     74\u001b[0m     out[inds_zero] \u001b[39m+\u001b[39m\u001b[39m=\u001b[39m \u001b[39mself\u001b[39m\u001b[39m.\u001b[39mpred_1[i](step_1)\n",
      "File \u001b[0;32m/media/thornail/LinuxOther/anaconda3/envs/ML2/lib/python3.10/site-packages/torch/nn/modules/module.py:1601\u001b[0m, in \u001b[0;36mModule.__getattr__\u001b[0;34m(self, name)\u001b[0m\n\u001b[1;32m   1598\u001b[0m     \u001b[39mif\u001b[39;00m \u001b[39m'\u001b[39m\u001b[39m_backward_pre_hooks\u001b[39m\u001b[39m'\u001b[39m \u001b[39mnot\u001b[39;00m \u001b[39min\u001b[39;00m \u001b[39mself\u001b[39m\u001b[39m.\u001b[39m\u001b[39m__dict__\u001b[39m:\n\u001b[1;32m   1599\u001b[0m         \u001b[39mself\u001b[39m\u001b[39m.\u001b[39m_backward_pre_hooks \u001b[39m=\u001b[39m OrderedDict()\n\u001b[0;32m-> 1601\u001b[0m \u001b[39mdef\u001b[39;00m \u001b[39m__getattr__\u001b[39m(\u001b[39mself\u001b[39m, name: \u001b[39mstr\u001b[39m) \u001b[39m-\u001b[39m\u001b[39m>\u001b[39m Union[Tensor, \u001b[39m'\u001b[39m\u001b[39mModule\u001b[39m\u001b[39m'\u001b[39m]:\n\u001b[1;32m   1602\u001b[0m     \u001b[39mif\u001b[39;00m \u001b[39m'\u001b[39m\u001b[39m_parameters\u001b[39m\u001b[39m'\u001b[39m \u001b[39min\u001b[39;00m \u001b[39mself\u001b[39m\u001b[39m.\u001b[39m\u001b[39m__dict__\u001b[39m:\n\u001b[1;32m   1603\u001b[0m         _parameters \u001b[39m=\u001b[39m \u001b[39mself\u001b[39m\u001b[39m.\u001b[39m\u001b[39m__dict__\u001b[39m[\u001b[39m'\u001b[39m\u001b[39m_parameters\u001b[39m\u001b[39m'\u001b[39m]\n",
      "\u001b[0;31mKeyboardInterrupt\u001b[0m: "
     ]
    }
   ],
   "source": [
    "train(train_ldr, test_ldr, model, optimizer, loss_f, 200, DEVICE, sm, noise=0.03)\n",
    "save_model(model, pipe, \"./models/\", \"model_linear_\")"
   ]
  },
  {
   "cell_type": "code",
   "execution_count": null,
   "metadata": {},
   "outputs": [],
   "source": [
    "save_model(model, pipe, \"./models/\", \"model_linear_\")"
   ]
  },
  {
   "cell_type": "code",
   "execution_count": null,
   "metadata": {},
   "outputs": [
    {
     "ename": "NameError",
     "evalue": "name 'fc_model' is not defined",
     "output_type": "error",
     "traceback": [
      "\u001b[0;31m---------------------------------------------------------------------------\u001b[0m",
      "\u001b[0;31mNameError\u001b[0m                                 Traceback (most recent call last)",
      "Cell \u001b[0;32mIn[13], line 1\u001b[0m\n\u001b[0;32m----> 1\u001b[0m model_ \u001b[39m=\u001b[39m fc_model(\u001b[39m25\u001b[39m, [\u001b[39m512\u001b[39m, \u001b[39m64\u001b[39m, \u001b[39m2\u001b[39m], DEVICE)\n\u001b[1;32m      2\u001b[0m model_\u001b[39m.\u001b[39mload_state_dict(t\u001b[39m.\u001b[39mload(\u001b[39m\"\u001b[39m\u001b[39m./submission/model.t\u001b[39m\u001b[39m\"\u001b[39m))\n\u001b[1;32m      3\u001b[0m model_ \u001b[39m=\u001b[39m model_\u001b[39m.\u001b[39mcpu()\n",
      "\u001b[0;31mNameError\u001b[0m: name 'fc_model' is not defined"
     ]
    }
   ],
   "source": [
    "model_ = fc_model(25, [512, 64, 2], DEVICE)\n",
    "model_.load_state_dict(t.load(\"./submission/model.t\"))\n",
    "model_ = model_.cpu()"
   ]
  },
  {
   "cell_type": "code",
   "execution_count": null,
   "metadata": {},
   "outputs": [
    {
     "data": {
      "text/plain": [
       "array([0.00533095, 0.0228748 ], dtype=float32)"
      ]
     },
     "execution_count": 30,
     "metadata": {},
     "output_type": "execute_result"
    }
   ],
   "source": [
    "model_.device = 'cpu'\n",
    "eval(test_ldr, model_)"
   ]
  },
  {
   "cell_type": "code",
   "execution_count": null,
   "metadata": {},
   "outputs": [],
   "source": [
    "pipe.pack(\"./src/pipe.pckl\")\n",
    "pipe = Pipe([])\n",
    "pipe.unpack(\"./src/pipe.pckl\")"
   ]
  },
  {
   "cell_type": "code",
   "execution_count": null,
   "metadata": {},
   "outputs": [
    {
     "data": {
      "text/plain": [
       "(<torch.utils.data.dataset.TensorDataset at 0x7fdd3472c1f0>,\n",
       " <torch.utils.data.dataloader.DataLoader at 0x7fdcc2f4bf10>)"
      ]
     },
     "execution_count": 55,
     "metadata": {},
     "output_type": "execute_result"
    }
   ],
   "source": [
    "pipe.transform(test.drop([\"target0\", \"target1\"], axis=1))"
   ]
  },
  {
   "cell_type": "code",
   "execution_count": null,
   "metadata": {},
   "outputs": [],
   "source": [
    "with open(\"./src/pipe_2023-05-27 18:20:59.pckl\", \"rb\") as f:\n",
    "    pipe_ = pickle.load(f)"
   ]
  },
  {
   "cell_type": "code",
   "execution_count": null,
   "metadata": {},
   "outputs": [],
   "source": [
    "preds = pred(test_ldr, model,DEVICE).to_numpy()\n",
    "diff = preds - test[[\"target0\", \"target1\"]].to_numpy()\n"
   ]
  },
  {
   "cell_type": "code",
   "execution_count": null,
   "metadata": {},
   "outputs": [
    {
     "data": {
      "text/plain": [
       "<matplotlib.collections.PathCollection at 0x7f4b0dd1f8e0>"
      ]
     },
     "execution_count": 25,
     "metadata": {},
     "output_type": "execute_result"
    },
    {
     "data": {
      "image/png": "[encoded data removed]",
      "text/plain": [
       "<Figure size 640x480 with 1 Axes>"
      ]
     },
     "metadata": {},
     "output_type": "display_data"
    }
   ],
   "source": [
    "plt.scatter(diff[:,0], diff[:,1], )"
   ]
  },
  {
   "cell_type": "code",
   "execution_count": null,
   "metadata": {},
   "outputs": [
    {
     "name": "stdout",
     "output_type": "stream",
     "text": [
      "Parameter containing:\n",
      "tensor([[ 0.0118, -0.0312,  0.2727,  ..., -0.1000,  0.1114, -0.1255],\n",
      "        [ 0.1641, -0.1245, -0.2137,  ...,  0.0217, -0.0787, -0.0840],\n",
      "        [ 0.0458,  0.1109,  0.0730,  ...,  0.0505, -0.1816,  0.0823],\n",
      "        ...,\n",
      "        [-0.0734,  0.1439,  0.0265,  ...,  0.1055, -0.0239, -0.1748],\n",
      "        [-0.0438,  0.1150, -0.0665,  ..., -0.1448,  0.0229,  0.0387],\n",
      "        [ 0.0296, -0.1027,  0.2233,  ...,  0.3145,  0.0071, -0.0243]],\n",
      "       device='cuda:0', requires_grad=True)\n",
      "Parameter containing:\n",
      "tensor([ 0.1404, -0.0054, -0.0605, -0.0089,  0.0495,  0.1008,  0.1719,  0.1290,\n",
      "        -0.0496, -0.1861, -0.0818,  0.2091, -0.1902,  0.1778,  0.0457,  0.1111,\n",
      "        -0.0277,  0.0575, -0.1139,  0.1550, -0.0159,  0.0342,  0.0747,  0.2324,\n",
      "         0.1258,  0.0042,  0.0290, -0.0141,  0.1272,  0.0590,  0.1597,  0.1868,\n",
      "         0.1035,  0.1525, -0.1674, -0.0443,  0.0198,  0.0395,  0.0809, -0.1841,\n",
      "        -0.1614,  0.0057,  0.1775, -0.0765, -0.2238, -0.1503,  0.1753,  0.0292,\n",
      "        -0.0236, -0.0270,  0.0769, -0.1980, -0.0397,  0.1377,  0.2399,  0.0740,\n",
      "         0.0699,  0.1605,  0.1738, -0.1273, -0.0920,  0.1138, -0.0939, -0.0525,\n",
      "         0.1639, -0.0787,  0.1229, -0.0936,  0.1826,  0.0795, -0.0403, -0.0136,\n",
      "         0.1825,  0.1283, -0.0880,  0.1439,  0.0223,  0.0092,  0.0994, -0.1342,\n",
      "        -0.0385,  0.1334,  0.1774, -0.0721, -0.1322,  0.0262, -0.0559, -0.1348,\n",
      "        -0.1100,  0.0897, -0.0076, -0.0113,  0.0709, -0.0559,  0.1544,  0.0680,\n",
      "         0.0111, -0.0962, -0.0030,  0.1447, -0.1793,  0.0864, -0.0168,  0.0820,\n",
      "         0.1829,  0.1286,  0.0939,  0.0991,  0.0708, -0.0832, -0.0435,  0.0532,\n",
      "        -0.1677, -0.1872,  0.1585, -0.1934, -0.0563,  0.2347,  0.1993, -0.1961,\n",
      "         0.0671,  0.1862,  0.0840,  0.1007, -0.0221,  0.0809, -0.0714, -0.0613],\n",
      "       device='cuda:0', requires_grad=True)\n",
      "Parameter containing:\n",
      "tensor([[-0.0165, -0.0077, -0.0785,  ...,  0.0763,  0.0877, -0.0005],\n",
      "        [-0.0176, -0.0341, -0.0042,  ..., -0.0729, -0.0714, -0.0059],\n",
      "        [-0.0087,  0.0681, -0.0162,  ..., -0.0580, -0.0084,  0.1575],\n",
      "        ...,\n",
      "        [-0.0602, -0.0492,  0.0499,  ..., -0.0389, -0.0503,  0.0053],\n",
      "        [-0.0655, -0.0739,  0.0879,  ..., -0.0298, -0.0828, -0.0805],\n",
      "        [-0.0597, -0.0289, -0.0203,  ..., -0.0803, -0.0817,  0.0683]],\n",
      "       device='cuda:0', requires_grad=True)\n",
      "Parameter containing:\n",
      "tensor([-0.0693, -0.0687,  0.1045,  0.0647, -0.0059, -0.0174,  0.1367, -0.0468,\n",
      "        -0.0194,  0.0565, -0.0306,  0.1611,  0.0264, -0.0308, -0.0014, -0.0629],\n",
      "       device='cuda:0', requires_grad=True)\n",
      "Parameter containing:\n",
      "tensor([[ 0.0386,  0.1249, -0.0324,  ...,  0.1710, -0.1661, -0.1420],\n",
      "        [-0.2315, -0.2365,  0.0804,  ..., -0.2456, -0.1223, -0.1107],\n",
      "        [-0.0077, -0.0342,  0.0604,  ...,  0.1437,  0.0857,  0.0376],\n",
      "        ...,\n",
      "        [ 0.1244,  0.0616, -0.0733,  ..., -0.2572,  0.1475, -0.2191],\n",
      "        [ 0.1573,  0.2194,  0.0007,  ..., -0.2067,  0.1808, -0.2454],\n",
      "        [-0.2219, -0.1309,  0.0708,  ..., -0.0911, -0.1974, -0.2120]],\n",
      "       device='cuda:0', requires_grad=True)\n",
      "Parameter containing:\n",
      "tensor([-0.1796, -0.1466,  0.2468,  0.2440,  0.0036, -0.2229,  0.2604, -0.0565,\n",
      "         0.2447,  0.2225, -0.2188,  0.0915,  0.1179, -0.0761, -0.1914,  0.2388,\n",
      "        -0.4467, -0.2386,  0.1574,  0.2616, -0.0913,  0.3464,  0.0545, -0.1744,\n",
      "        -0.1298,  0.2949,  0.0496, -0.1442,  0.1653,  0.0089, -0.1320, -0.1472,\n",
      "        -0.2053,  0.1728, -0.2374, -0.1325, -0.1430,  0.0778, -0.1888,  0.1153,\n",
      "         0.3458,  0.1013,  0.1786, -0.1897, -0.1240,  0.3429, -0.1529, -0.2223,\n",
      "        -0.0264, -0.1513,  0.3373, -0.2856,  0.2944,  0.1701, -0.0719, -0.1079,\n",
      "         0.0546, -0.1478,  0.1674,  0.0995, -0.2220,  0.2378,  0.0786,  0.0241,\n",
      "        -0.1054, -0.2315,  0.2735, -0.1615, -0.1420,  0.0776,  0.2148,  0.1445,\n",
      "         0.1262,  0.2311,  0.1762,  0.2804, -0.1419,  0.0159, -0.2297, -0.1042,\n",
      "        -0.3209, -0.2090, -0.0398, -0.1686, -0.1331,  0.0559,  0.1741, -0.2086,\n",
      "         0.2936, -0.3683, -0.0949, -0.1208, -0.0132, -0.2035,  0.1316,  0.1774,\n",
      "        -0.0838, -0.0591, -0.1091, -0.2074, -0.0961, -0.0112, -0.1846,  0.0699,\n",
      "        -0.1223, -0.0489, -0.0486,  0.4541,  0.0138, -0.2301,  0.1842, -0.2070,\n",
      "        -0.2226,  0.1544, -0.1667,  0.2859, -0.2397,  0.3456, -0.0770, -0.1807,\n",
      "         0.3470, -0.2414,  0.2134, -0.0479, -0.1360,  0.0377, -0.1173,  0.1523],\n",
      "       device='cuda:0', requires_grad=True)\n",
      "Parameter containing:\n",
      "tensor([[ 0.0373, -0.0956,  0.0354,  ..., -0.1517, -0.0483, -0.1005],\n",
      "        [ 0.0697,  0.0583,  0.2524,  ...,  0.3905,  0.0559,  0.0049],\n",
      "        [ 0.0117, -0.0035, -0.0241,  ..., -0.0101, -0.0766, -0.0213],\n",
      "        ...,\n",
      "        [ 0.0597, -0.0923, -0.0989,  ..., -0.2243, -0.0722, -0.0367],\n",
      "        [ 0.0505,  0.0261, -0.1554,  ..., -0.3823, -0.0833,  0.0020],\n",
      "        [-0.0501,  0.0757, -0.1959,  ..., -0.2700, -0.0169, -0.1179]],\n",
      "       device='cuda:0', requires_grad=True)\n",
      "Parameter containing:\n",
      "tensor([-0.0343, -0.0129,  0.0049,  0.1154, -0.0140, -0.0439, -0.0602, -0.0709,\n",
      "        -0.1551, -0.0054, -0.0963, -0.0024, -0.0246, -0.0373, -0.1301, -0.0469,\n",
      "        -0.0776, -0.0958,  0.0459, -0.0718, -0.0260,  0.0136, -0.0337, -0.0194,\n",
      "         0.0078], device='cuda:0', requires_grad=True)\n",
      "Parameter containing:\n",
      "tensor([[ 1.4072e-01, -2.2798e-01,  3.1284e-01, -7.3789e-02, -1.8771e-01,\n",
      "          2.2837e-01,  2.7421e-01, -5.4825e-02,  1.8839e-01,  2.1760e-01,\n",
      "          5.8982e-02,  2.6690e-01, -1.5915e-01, -2.4452e-01, -1.2663e-01,\n",
      "         -1.1124e-01],\n",
      "        [-2.3618e-01,  7.7783e-02,  2.5296e-01, -1.8963e-01, -2.1225e-02,\n",
      "         -1.5274e-01, -1.7393e-04, -2.9184e-01, -2.5869e-01,  9.3445e-02,\n",
      "          3.0222e-01, -1.0850e-01,  1.7581e-01, -3.0142e-02, -2.1373e-01,\n",
      "          1.3902e-01]], device='cuda:0', requires_grad=True)\n",
      "Parameter containing:\n",
      "tensor([-0.0492,  0.1890], device='cuda:0', requires_grad=True)\n",
      "Parameter containing:\n",
      "tensor([[-0.0013,  0.0752, -0.0646,  ...,  0.2099, -0.1193,  0.2123],\n",
      "        [-0.1842,  0.0090, -0.1731,  ...,  0.1751,  0.0346,  0.0633],\n",
      "        [-0.1799,  0.0560,  0.0300,  ...,  0.0031, -0.1876,  0.1006],\n",
      "        ...,\n",
      "        [-0.1193,  0.1012, -0.0821,  ...,  0.1148,  0.1517,  0.1051],\n",
      "        [ 0.1475,  0.0635, -0.0409,  ...,  0.0021,  0.1301, -0.0222],\n",
      "        [-0.2094, -0.0347, -0.1671,  ...,  0.1181,  0.0444, -0.0479]],\n",
      "       device='cuda:0', requires_grad=True)\n",
      "Parameter containing:\n",
      "tensor([ 0.1163, -0.1371,  0.0769,  0.0245,  0.1171,  0.2243,  0.2256, -0.0600,\n",
      "         0.0930, -0.4349,  0.2009, -0.0522,  0.1331, -0.0889,  0.0486, -0.1030,\n",
      "        -0.0072, -0.2123, -0.0983, -0.0281,  0.0463, -0.4122, -0.2361,  0.1791,\n",
      "        -0.0711, -0.1989,  0.2262,  0.0159,  0.1310,  0.0493, -0.1304,  0.0800,\n",
      "        -0.1074, -0.1130,  0.0187,  0.1542, -0.5883,  0.0365, -0.1796, -0.0443,\n",
      "         0.0466, -0.1018,  0.1431, -0.0763,  0.0264, -0.0975, -0.3299,  0.0802,\n",
      "        -0.0277, -0.1996,  0.1375, -0.0315,  0.0508,  0.1494,  0.0705, -0.0089,\n",
      "        -0.1832,  0.0027,  0.0260,  0.0940, -0.1213, -0.0521,  0.0950, -0.0614,\n",
      "         0.1957, -0.0316,  0.0764, -0.0294, -0.0262,  0.1544,  0.1292,  0.2658,\n",
      "         0.2231,  0.0570,  0.1965,  0.2422, -0.1356, -0.0941, -0.0529, -0.1222,\n",
      "        -0.1884, -0.0521, -0.1072, -0.0195,  0.0577,  0.0665, -0.0032,  0.0109,\n",
      "        -0.0711, -0.0597,  0.2403,  0.0491,  0.2522,  0.1326,  0.2231,  0.0634,\n",
      "        -0.0998,  0.1522,  0.2676,  0.1862, -0.0204,  0.1392, -0.0551, -0.0070,\n",
      "         0.1460, -0.0675, -0.0851, -0.0149, -0.1192,  0.0390, -0.0086,  0.0373,\n",
      "        -0.1276, -0.0035,  0.1617,  0.0704,  0.2042, -0.0402, -0.1926, -0.0915,\n",
      "        -0.0618,  0.1375,  0.1142,  0.2170,  0.2683, -0.0187,  0.0899, -0.1580],\n",
      "       device='cuda:0', requires_grad=True)\n",
      "Parameter containing:\n",
      "tensor([[-0.0372, -0.0653, -0.0467,  ..., -0.0616,  0.0231,  0.0765],\n",
      "        [ 0.0250,  0.0290, -0.0140,  ..., -0.0919,  0.0650, -0.0614],\n",
      "        [-0.0449,  0.0118, -0.0143,  ...,  0.0459, -0.0466,  0.0204],\n",
      "        ...,\n",
      "        [ 0.0820,  0.0362, -0.0111,  ...,  0.0228,  0.0430, -0.0035],\n",
      "        [-0.0883,  0.0014, -0.0821,  ...,  0.0741, -0.0730, -0.0498],\n",
      "        [-0.0076,  0.0329, -0.0546,  ..., -0.0660, -0.0110, -0.0578]],\n",
      "       device='cuda:0', requires_grad=True)\n",
      "Parameter containing:\n",
      "tensor([ 0.0055,  0.0772,  0.0375,  0.0782,  0.1692,  0.1462,  0.1437, -0.0345,\n",
      "        -0.0160,  0.1023,  0.0241,  0.1285,  0.1554,  0.1141,  0.0426,  0.0577],\n",
      "       device='cuda:0', requires_grad=True)\n",
      "Parameter containing:\n",
      "tensor([[ 0.0295, -0.1042,  0.1653,  0.0779,  0.1232,  0.2532,  0.1246,  0.0668,\n",
      "         -0.0551,  0.1570,  0.1352,  0.3025,  0.1655,  0.0435, -0.0171,  0.2434],\n",
      "        [-0.1349, -0.1156,  0.1565,  0.1142, -0.1852,  0.0805, -0.1179, -0.1408,\n",
      "          0.0802,  0.0088, -0.2077,  0.2109, -0.1351,  0.1704,  0.0413, -0.1664]],\n",
      "       device='cuda:0', requires_grad=True)\n",
      "Parameter containing:\n",
      "tensor([ 0.0049, -0.1016], device='cuda:0', requires_grad=True)\n",
      "Parameter containing:\n",
      "tensor([[ 0.1991, -0.0071,  0.1571,  ...,  0.2174,  0.0271, -0.1411],\n",
      "        [-0.2025, -0.0094, -0.5258,  ...,  0.1537, -0.0537, -0.0391],\n",
      "        [ 0.1035, -0.2096, -0.1100,  ..., -0.1540, -0.1114,  0.0942],\n",
      "        ...,\n",
      "        [-0.3146,  0.0789,  0.1485,  ..., -0.1911,  0.1193,  0.0274],\n",
      "        [-0.2676,  0.0768, -0.0020,  ..., -0.2558, -0.0062, -0.0615],\n",
      "        [ 0.0232,  0.0981,  0.0378,  ...,  0.0841,  0.1801, -0.1847]],\n",
      "       device='cuda:0', requires_grad=True)\n",
      "Parameter containing:\n",
      "tensor([ 0.0606,  0.0522, -0.0395,  0.1363,  0.1839,  0.2389, -0.0201,  0.0022,\n",
      "         0.1324,  0.1909, -0.0981, -0.1649, -0.1295,  0.1107, -0.0686,  0.2142,\n",
      "        -0.1737,  0.2087,  0.0154,  0.1841,  0.1091, -0.0782,  0.1539, -0.1024,\n",
      "        -0.1008, -0.0329,  0.1514, -0.1792,  0.2328, -0.0469,  0.2284,  0.1443,\n",
      "         0.1829,  0.0801,  0.1470,  0.0963, -0.0526,  0.2674, -0.1637,  0.0206,\n",
      "         0.0037,  0.2240,  0.1536,  0.1928, -0.0782, -0.0328, -0.1477,  0.1648,\n",
      "        -0.1483, -0.0220,  0.1259,  0.1239,  0.1877,  0.2124,  0.1161, -0.0749,\n",
      "         0.2357,  0.0573, -0.1254, -0.0464,  0.2315, -0.0029, -0.0046, -0.0577,\n",
      "         0.2856,  0.1152,  0.2138,  0.0681, -0.1105,  0.1724, -0.0165, -0.1245,\n",
      "         0.0259,  0.1243, -0.1607, -0.1650,  0.0848, -0.2085, -0.0860,  0.0372,\n",
      "        -0.1981,  0.0373,  0.2647,  0.0040,  0.2472, -0.0306,  0.1797,  0.1093,\n",
      "        -0.1711, -0.0658,  0.2139, -0.0917,  0.2201, -0.1390,  0.1109, -0.0124,\n",
      "         0.0228,  0.0092, -0.1491,  0.1225,  0.1463,  0.2259,  0.1522,  0.0661,\n",
      "         0.2039, -0.1356,  0.1311,  0.7347, -0.3077, -0.0211,  0.2618,  0.0765,\n",
      "        -0.1925,  0.2671,  0.0063, -0.1022,  0.1322, -0.0913, -0.0926, -0.0358,\n",
      "         0.0017, -0.0362,  0.0969, -0.1750, -0.0648, -0.1382, -0.0670,  0.1703],\n",
      "       device='cuda:0', requires_grad=True)\n",
      "Parameter containing:\n",
      "tensor([[ 0.0144,  0.0918,  0.0264,  ...,  0.0757,  0.0750,  0.0420],\n",
      "        [ 0.0172,  0.3681, -0.0062,  ..., -0.0288, -0.0951,  0.0093],\n",
      "        [ 0.0272,  0.3848,  0.0939,  ..., -0.0689, -0.0504,  0.0520],\n",
      "        ...,\n",
      "        [ 0.0138,  0.3402,  0.0849,  ..., -0.0801,  0.0186, -0.0290],\n",
      "        [ 0.0669,  0.3444,  0.0148,  ..., -0.0129, -0.0310,  0.0523],\n",
      "        [ 0.0279,  0.3654,  0.0469,  ..., -0.0893, -0.0672,  0.0468]],\n",
      "       device='cuda:0', requires_grad=True)\n",
      "Parameter containing:\n",
      "tensor([ 0.0596, -0.0391,  0.0076, -0.1099, -0.0529,  0.0439,  0.0470, -0.0390,\n",
      "         0.1196,  0.1032,  0.0317,  0.0316, -0.0949,  0.1753,  0.0293,  0.1467],\n",
      "       device='cuda:0', requires_grad=True)\n",
      "Parameter containing:\n",
      "tensor([[ 0.0735,  0.0725,  0.0953,  ...,  0.0913,  0.0351,  0.0849],\n",
      "        [-0.0820,  0.0064,  0.0945,  ..., -0.0170, -0.2151, -0.0112],\n",
      "        [ 0.0512,  0.2099,  0.2795,  ...,  0.0089,  0.0070,  0.0006],\n",
      "        ...,\n",
      "        [-0.2001,  0.0658, -0.1631,  ..., -0.1544,  0.0885, -0.0675],\n",
      "        [-0.2345,  0.0898,  0.1516,  ..., -0.0315,  0.0739,  0.1847],\n",
      "        [ 0.1237, -0.1648, -0.1629,  ...,  0.2102,  0.0794, -0.1706]],\n",
      "       device='cuda:0', requires_grad=True)\n",
      "Parameter containing:\n",
      "tensor([ 3.1673e-01,  6.0308e-02, -2.3943e-01, -4.6304e-02, -5.7504e-02,\n",
      "         8.8812e-02,  2.5825e-01,  1.8706e-01,  2.7504e-01,  2.2600e-01,\n",
      "        -1.2570e-01,  1.1239e-01, -1.0432e-01, -1.2857e-01,  2.1911e-01,\n",
      "        -6.5197e-02,  3.2539e-01, -1.7523e-01,  1.3738e-01,  1.8829e-01,\n",
      "         9.8735e-03,  1.2383e-01,  3.0386e-01, -2.2433e-01,  1.1870e-01,\n",
      "         2.8990e-01,  1.0917e-01,  1.4497e-01,  1.3274e-01,  2.0158e-02,\n",
      "         1.0584e-01, -1.1969e-01,  2.0348e-01, -5.5397e-02,  2.1943e-01,\n",
      "        -1.2607e-01,  5.0728e-02,  2.6047e-02, -2.3854e-01,  3.5241e-02,\n",
      "         2.1995e-01,  2.5139e-01,  1.1635e-01,  2.3089e-01, -4.3290e-02,\n",
      "         1.9752e-01,  3.5211e-01,  1.2170e-01,  7.8778e-02, -2.3671e-02,\n",
      "         2.9622e-01, -1.6239e-01, -1.2043e-01,  2.5428e-01, -2.5060e-01,\n",
      "         2.0752e-01,  2.6758e-01,  8.3362e-02, -1.1435e-01, -1.7056e-01,\n",
      "         2.8846e-01, -1.4244e-01,  4.9047e-02, -1.8533e-01,  2.5685e-01,\n",
      "         3.3430e-02, -1.8318e-01, -8.0419e-02,  2.4384e-01,  2.1548e-01,\n",
      "         2.6251e-02,  1.8758e-01, -2.0700e-01,  1.4775e-01,  4.4412e-02,\n",
      "         1.1278e-04, -1.1715e-01, -2.4895e-01, -1.6346e-01,  7.4882e-02,\n",
      "         2.9476e-01, -9.9573e-02,  2.2414e-01,  3.2718e-01,  1.1787e-01,\n",
      "         2.5341e-01,  2.8984e-01,  2.3850e-01,  9.9387e-02,  1.7124e-01,\n",
      "         2.4552e-01, -2.4023e-01,  2.6021e-01, -2.4460e-01,  8.3920e-02,\n",
      "        -2.3668e-01, -8.0546e-03, -1.2652e-01,  1.3360e-01,  2.2651e-01,\n",
      "         1.1317e-01,  2.4357e-01, -1.7599e-01, -2.3800e-01, -1.9014e-01,\n",
      "        -9.7108e-02, -2.1879e-01, -1.6194e-01,  1.9364e-01,  2.0282e-01,\n",
      "        -3.5210e-02, -6.9583e-02,  2.0203e-01,  1.4287e-01, -2.0822e-01,\n",
      "        -2.0684e-01, -2.9060e-01,  1.6351e-02,  1.5077e-01, -2.4119e-02,\n",
      "         1.8540e-02, -2.0774e-01, -3.6840e-02, -2.2864e-01, -7.0598e-02,\n",
      "        -2.2786e-01,  4.8066e-02,  1.5517e-01], device='cuda:0',\n",
      "       requires_grad=True)\n",
      "Parameter containing:\n",
      "tensor([[ 0.0092, -0.0366, -0.0252,  ..., -0.0072, -0.0904, -0.0769],\n",
      "        [-0.0663, -0.0726, -0.2714,  ..., -0.0093, -0.1410, -0.0870],\n",
      "        [ 0.0945,  0.0689, -0.1574,  ..., -0.0816,  0.0716,  0.1314],\n",
      "        ...,\n",
      "        [ 0.0122, -0.0760, -0.0508,  ..., -0.0526, -0.0346, -0.0875],\n",
      "        [ 0.0134,  0.0025, -0.0463,  ..., -0.0126, -0.0251, -0.0456],\n",
      "        [ 0.0458,  0.0980,  0.1501,  ...,  0.0455,  0.0037,  0.1245]],\n",
      "       device='cuda:0', requires_grad=True)\n",
      "Parameter containing:\n",
      "tensor([-0.0776, -0.0038,  0.0471,  0.2089,  0.1252, -0.0624, -0.0550, -0.1814,\n",
      "         0.0164,  0.1835, -0.0706, -0.0293, -0.1244, -0.0385,  0.0622, -0.1477,\n",
      "        -0.0422, -0.1441, -0.0484, -0.0353,  0.1904, -0.1373, -0.0971, -0.0718,\n",
      "         0.1689], device='cuda:0', requires_grad=True)\n",
      "Parameter containing:\n",
      "tensor([[ 0.1896,  0.0465,  0.1125, -0.1671, -0.2201,  0.2743,  0.2041,  0.0019,\n",
      "          0.2565,  0.0416,  0.3240, -0.0965, -0.2215,  0.3123,  0.1792,  0.0689],\n",
      "        [ 0.1165,  0.3307,  0.2667, -0.2010, -0.0509,  0.2432,  0.2600, -0.3808,\n",
      "          0.0241,  0.3268,  0.1964, -0.2154,  0.0174,  0.1385,  0.1957,  0.2236]],\n",
      "       device='cuda:0', requires_grad=True)\n",
      "Parameter containing:\n",
      "tensor([ 0.1346, -0.0554], device='cuda:0', requires_grad=True)\n",
      "Parameter containing:\n",
      "tensor([[ 0.0679,  0.1540,  0.1129,  ..., -0.0108, -0.0328, -0.2200],\n",
      "        [-0.0900,  0.2094, -0.0145,  ...,  0.1375, -0.0304,  0.1216],\n",
      "        [ 0.2199, -0.1633,  0.1608,  ...,  0.0582, -0.1045, -0.1282],\n",
      "        ...,\n",
      "        [ 0.0815, -0.1450, -0.0509,  ..., -0.1858, -0.1986, -0.1695],\n",
      "        [-0.1739,  0.0812, -0.0263,  ..., -0.0981,  0.0133,  0.0252],\n",
      "        [ 0.1825, -0.1861, -0.0485,  ..., -0.1671, -0.1397, -0.0051]],\n",
      "       device='cuda:0', requires_grad=True)\n",
      "Parameter containing:\n",
      "tensor([ 0.1463,  0.0097, -0.0773, -0.0345, -0.1720, -0.0123, -0.1510,  0.1558,\n",
      "         0.0598,  0.0511,  0.0777, -0.2197, -0.0198, -0.2396,  0.1688,  0.1861,\n",
      "         0.1431,  0.1824, -0.0075, -0.0192, -0.0582,  0.1607, -0.1717,  0.0583,\n",
      "         0.1313,  0.2113,  0.2736,  0.1492, -0.1539, -0.1809,  0.1751,  0.2905,\n",
      "         0.0942,  0.1109, -0.0334,  0.2810, -0.0546, -0.1688,  0.0124,  0.1277,\n",
      "         0.0896, -0.0061,  0.1426,  0.2165, -0.0059, -0.0088,  0.1343,  0.1718,\n",
      "        -0.1806,  0.1992,  0.1682,  0.0624,  0.2724,  0.1655,  0.1692,  0.2019,\n",
      "         0.0757,  0.3551,  0.0608, -0.0170, -0.1829,  0.0227, -0.0024, -0.0831,\n",
      "        -0.0915,  0.0771,  0.0298,  0.3151,  0.3058,  0.2947,  0.1280,  0.1953,\n",
      "         0.0771, -0.0371, -0.0864,  0.2957, -0.1531,  0.2320,  0.1234,  0.0883,\n",
      "        -0.0259,  0.0833,  0.0835,  0.1343,  0.2221,  0.2542, -0.0061, -0.0459,\n",
      "        -0.0229, -0.1399, -0.1745, -0.0143,  0.2699,  0.1155, -0.0108,  0.2290,\n",
      "        -0.0867,  0.1880, -0.1636,  0.0388,  0.2914,  0.2985,  0.3017, -0.0655,\n",
      "         0.2080, -0.0532,  0.0943,  0.2559,  0.1318,  0.1515,  0.2052,  0.0011,\n",
      "         0.1801,  0.0878, -0.2053,  0.0431, -0.1842,  0.0415,  0.2742,  0.0924,\n",
      "         0.2316, -0.0596, -0.1248,  0.1225,  0.2519, -0.1197, -0.1519, -0.0360],\n",
      "       device='cuda:0', requires_grad=True)\n",
      "Parameter containing:\n",
      "tensor([[-0.0206, -0.0748, -0.0328,  ...,  0.0558,  0.0042,  0.0173],\n",
      "        [ 0.0457,  0.0228,  0.0337,  ...,  0.0851, -0.0417, -0.0278],\n",
      "        [-0.0126,  0.0585,  0.0341,  ...,  0.0311, -0.0692, -0.0083],\n",
      "        ...,\n",
      "        [-0.0751,  0.0644,  0.0082,  ...,  0.0102,  0.0713,  0.0572],\n",
      "        [ 0.1001, -0.0365,  0.1055,  ...,  0.0059,  0.0811,  0.0284],\n",
      "        [-0.0634, -0.0980,  0.0475,  ...,  0.0346,  0.0325, -0.0729]],\n",
      "       device='cuda:0', requires_grad=True)\n",
      "Parameter containing:\n",
      "tensor([-0.1114, -0.0532, -0.0259,  0.1855, -0.2270, -0.1709, -0.2141, -0.0307,\n",
      "         0.1196,  0.1517,  0.0795,  0.1467, -0.0671, -0.0691,  0.0831, -0.0281],\n",
      "       device='cuda:0', requires_grad=True)\n",
      "Parameter containing:\n",
      "tensor([[-0.0830, -0.0644, -0.0101,  0.2008, -0.1627, -0.0674, -0.1941, -0.2036,\n",
      "          0.1041,  0.2474,  0.1547,  0.1450, -0.1120, -0.1870, -0.0219, -0.0867],\n",
      "        [-0.1858,  0.2018,  0.1225, -0.0180,  0.0821, -0.2554, -0.0145, -0.2652,\n",
      "         -0.0221,  0.0348, -0.0179,  0.2121, -0.2589,  0.0636,  0.1776, -0.1950]],\n",
      "       device='cuda:0', requires_grad=True)\n",
      "Parameter containing:\n",
      "tensor([0.3753, 0.3137], device='cuda:0', requires_grad=True)\n"
     ]
    }
   ],
   "source": [
    "for n in model.parameters():\n",
    "    print(n)"
   ]
  }
 ],
 "metadata": {
  "kernelspec": {
   "display_name": "ML2",
   "language": "python",
   "name": "python3"
  },
  "language_info": {
   "codemirror_mode": {
    "name": "ipython",
    "version": 3
   },
   "file_extension": ".py",
   "mimetype": "text/x-python",
   "name": "python",
   "nbconvert_exporter": "python",
   "pygments_lexer": "ipython3",
   "version": "3.10.10"
  },
  "orig_nbformat": 4
 },
 "nbformat": 4,
 "nbformat_minor": 2
}
