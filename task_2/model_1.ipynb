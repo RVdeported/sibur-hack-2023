{
 "cells": [
  {
   "cell_type": "code",
   "execution_count": 126,
   "metadata": {},
   "outputs": [],
   "source": [
    "from matplotlib import pyplot as plt"
   ]
  },
  {
   "cell_type": "code",
   "execution_count": 127,
   "metadata": {},
   "outputs": [],
   "source": [
    "import os\n",
    "from tqdm import tqdm\n",
    "import pathlib\n",
    "import numpy as np\n",
    "import pandas as pd\n",
    "import pickle\n",
    "from torch.utils.tensorboard import SummaryWriter\n",
    "\n",
    "from sklearn.metrics import mean_absolute_percentage_error as mape\n",
    "from sklearn.preprocessing import MinMaxScaler\n",
    "\n",
    "import torch as t\n",
    "\n",
    "from datetime import datetime as dt\n",
    "\n",
    "DEVICE = \"cuda\" if t.cuda.is_available() else 'cpu'\n",
    "\n",
    "tqdm.pandas()\n",
    "pd.set_option('display.max_columns', None)"
   ]
  },
  {
   "cell_type": "code",
   "execution_count": 128,
   "metadata": {},
   "outputs": [],
   "source": [
    "DATA_DIR = pathlib.Path(\"./data/\")\n",
    "RS = 3984765"
   ]
  },
  {
   "cell_type": "code",
   "execution_count": 129,
   "metadata": {},
   "outputs": [
    {
     "data": {
      "text/plain": [
       "(130405, 27)"
      ]
     },
     "execution_count": 129,
     "metadata": {},
     "output_type": "execute_result"
    }
   ],
   "source": [
    "train = pd.read_parquet(DATA_DIR.joinpath(\"train.parquet\"))\n",
    "index_split = int(train.shape[0] * 0.15)\n",
    "test = train[index_split:]\n",
    "train = train[:index_split]\n",
    "test.shape"
   ]
  },
  {
   "cell_type": "code",
   "execution_count": 130,
   "metadata": {},
   "outputs": [
    {
     "data": {
      "text/plain": [
       "63.22948411242339"
      ]
     },
     "execution_count": 130,
     "metadata": {},
     "output_type": "execute_result"
    }
   ],
   "source": [
    "train[\"feature0\"].quantile(0.99)"
   ]
  },
  {
   "cell_type": "code",
   "execution_count": 131,
   "metadata": {},
   "outputs": [],
   "source": [
    "\n",
    "\n",
    "class Pipe:\n",
    "    def __init__(self, cols_to_short, batch_size=64):\n",
    "        self.min_max = MinMaxScaler()\n",
    "        self.cols_to_short = cols_to_short\n",
    "        self.batch_size = batch_size\n",
    "\n",
    "\n",
    "    def fit(self, X: pd.DataFrame):\n",
    "        X_ = self.quntize(X)\n",
    "        X_[\"feature4\"] = (X_[\"feature4\"] == \"gas1\") * 1\n",
    "        self.min_max.fit(X_)\n",
    "\n",
    "    def quntize(self, X):\n",
    "        X_ = X.copy()\n",
    "        \n",
    "        for col in self.cols_to_short:\n",
    "            X_ = X_[X_[col] < X_[col].quantile(0.999)]\n",
    "        \n",
    "        return X_\n",
    "\n",
    "    def transform(self, X, y=None, train_df=False):\n",
    "        X_ = X.copy()\n",
    "        if y is not None:\n",
    "            y_ = y.copy()\n",
    "\n",
    "\n",
    "        if train_df:\n",
    "            X_ = self.quntize(X_)\n",
    "        if train_df and y is not None:\n",
    "            y_ = y_.iloc[X_.index]\n",
    "        \n",
    "\n",
    "        X_[\"feature4\"] = (X_[\"feature4\"] == \"gas1\") * 1\n",
    "        \n",
    "\n",
    "        X_ = pd.DataFrame(self.min_max.transform(X_), columns=X_.columns) \n",
    "        X_[\"cluster\"] = (X_[\"feature4\"] == 1) * 1\n",
    "        X_.drop(\"feature4\", axis=1, inplace=True)\n",
    "\n",
    "        X_t = t.tensor(X_.to_numpy(), dtype=t.float32)\n",
    "\n",
    "        if y is not None:\n",
    "            y_t = t.tensor(y_.to_numpy(), dtype=t.float32)\n",
    "            ds = t.utils.data.TensorDataset(X_t, y_t)\n",
    "        else:\n",
    "            ds = t.utils.data.TensorDataset(X_t)\n",
    "\n",
    "        ldr = t.utils.data.DataLoader(ds, batch_size=self.batch_size)\n",
    "\n",
    "        return ds, ldr\n",
    "    \n",
    "    def pack(self, path):\n",
    "        to_pack = {\n",
    "            \"scaler\" : self.min_max,\n",
    "            \"cols\" : self.cols_to_short,\n",
    "            \"batch_size\" : self.batch_size\n",
    "        }\n",
    "        with open(path, \"wb+\") as f:\n",
    "            pickle.dump(to_pack, f)\n",
    "    \n",
    "    def unpack(self, path):\n",
    "        with open(path, \"rb\") as f:\n",
    "            params = pickle.load(f)\n",
    "\n",
    "        self.batch_size = params[\"batch_size\"]\n",
    "        self.min_max = params[\"scaler\"]\n",
    "        self.cols_to_short = params[\"cols\"] \n",
    "\n",
    "    \n",
    "    \n",
    "\n",
    "pipe = Pipe(cols_to_short=[\n",
    "    \"feature0\",\n",
    "    \"feature1\",\n",
    "    \"feature2\",\n",
    "    \"feature3\",\n",
    "    \"feature5\",\n",
    "    \"feature7\",\n",
    "    \"feature12\",\n",
    "    \"feature15\",\n",
    "    \"feature17\",\n",
    "    ], batch_size=512)\n",
    "\n",
    "pipe.fit(train.drop([\"target0\", \"target1\"], axis=1))\n"
   ]
  },
  {
   "cell_type": "code",
   "execution_count": 132,
   "metadata": {},
   "outputs": [
    {
     "name": "stdout",
     "output_type": "stream",
     "text": [
      "(23012, 27)\n",
      "torch.Size([22804, 25])\n",
      "(130405, 27)\n",
      "torch.Size([130405, 25])\n"
     ]
    }
   ],
   "source": [
    "print(train.shape)\n",
    "train_ds, train_ldr = pipe.transform(\n",
    "    train.drop([\"target0\", \"target1\"], axis=1), \n",
    "    train[[\"target0\", \"target1\"]],\n",
    "    train_df=True)\n",
    "print(train_ds.tensors[0].shape)\n",
    "\n",
    "print(test.shape)\n",
    "test_ds, test_ldr = pipe.transform(\n",
    "    test.drop([\"target0\", \"target1\"], axis=1),\n",
    "    test[[\"target0\", \"target1\"]]\n",
    "    )\n",
    "print(test_ds.tensors[0].shape)"
   ]
  },
  {
   "cell_type": "code",
   "execution_count": 133,
   "metadata": {},
   "outputs": [],
   "source": [
    "class fc_model(t.nn.Module):\n",
    "    def __init__(self, input_dim, layers=[256, 16, 2], device='cpu'):\n",
    "        super().__init__()\n",
    "        self.device=device\n",
    "\n",
    "        self.zero = t.nn.Sequential(\n",
    "            t.nn.Linear(input_dim, layers[0]),\n",
    "            t.nn.ReLU(),\n",
    "            \n",
    "\n",
    "            t.nn.Linear(layers[0], layers[1]),\n",
    "            t.nn.ReLU(),\n",
    "            t.nn.Linear(layers[1], layers[2])\n",
    "        )\n",
    "        self.one = t.nn.Sequential(\n",
    "            t.nn.Linear(input_dim, layers[0]),\n",
    "            \n",
    "            t.nn.ReLU(),\n",
    "            t.nn.Linear(layers[0], layers[1]),\n",
    "            \n",
    "            t.nn.ReLU(),\n",
    "            t.nn.Linear(layers[1], layers[2])\n",
    "        )\n",
    "\n",
    "    def forward(self, X):\n",
    "        out = t.zeros((X.shape[0], 2), device=self.device, dtype=t.float32)\n",
    "        \n",
    "        inds_one = (X[:, -1] == t.scalar_tensor(1)).nonzero().T[0]\n",
    "        inds_zero = (X[:, -1] == t.scalar_tensor(0)).nonzero().T[0]\n",
    "\n",
    "        one = self.one(X[inds_one]) \n",
    "        \n",
    "        zero = self.zero(X[inds_zero]) \n",
    "\n",
    "        out[inds_one] = one\n",
    "        out[inds_zero] = zero\n",
    "\n",
    "        return out\n",
    "\n"
   ]
  },
  {
   "cell_type": "code",
   "execution_count": 134,
   "metadata": {},
   "outputs": [],
   "source": [
    "\n",
    "\n",
    "def train(train_ldr, \n",
    "          test_ldr, \n",
    "          model, \n",
    "          optimizer, \n",
    "          loss_f, \n",
    "          epochs=10, \n",
    "          device='cpu',\n",
    "          sm = None,\n",
    "          save_each = 20):\n",
    "    \n",
    "    global pipe\n",
    "\n",
    "    bar = tqdm(range(epochs))\n",
    "    for epoch in bar:\n",
    "        loss_cum = 0\n",
    "        for X, y in train_ldr:\n",
    "            optimizer.zero_grad()\n",
    "            out = model(X.to(device=device))\n",
    "            loss = loss_f(out, y.to(device=device))\n",
    "            loss.backward()\n",
    "            loss_cum += loss\n",
    "            optimizer.step()\n",
    "\n",
    "        eval_test = eval(test_ldr, model, device)\n",
    "        eval_train = eval(train_ldr, model, device)\n",
    "        bar.set_description(f'''epoch {epoch}, loss {loss_cum:.3f}, mape_train {(eval_train * 100).round(2)}, mape_test {(eval_test * 100).round(2)}''')\n",
    "        if sm is not None:\n",
    "            sm.add_scalar('Loss/train', loss_cum, epoch)\n",
    "            sm.add_scalar('MAPE/train', eval_train.sum() / 2, epoch)\n",
    "            sm.add_scalar('MAPE/test', eval_test.sum() / 2, epoch)\n",
    "        if epoch % 10 == 0:\n",
    "            save_model(model, pipe, \"./models/\", \"fc_\")\n",
    "\n",
    "\n",
    "\n",
    "\n",
    "def eval(test_ldr, model, device='cpu'):\n",
    "    \n",
    "    loss = np.array([0, 0], dtype=np.float32)\n",
    "    i=0\n",
    "    for X, y in test_ldr:\n",
    "        with t.no_grad():\n",
    "            out = model(X.to(device=device))\n",
    "            loss += mape(y, out.cpu().detach().numpy(), multioutput='raw_values')\n",
    "            i+=1\n",
    "\n",
    "    return loss / i\n",
    "\n",
    "def pred(ldr, model, device='cpu'):\n",
    "    res = t.tensor([], dtype=t.float32)\n",
    "\n",
    "    with t.no_grad():\n",
    "        for X, y in ldr:\n",
    "            out = model(X.to(device=device)).to('cpu')\n",
    "            res = t.cat([res,out], axis=0)\n",
    "    \n",
    "    res = pd.DataFrame(\n",
    "        res.detach().numpy(),\n",
    "        columns = [\"target0\", \"target1\"]\n",
    "    )\n",
    "\n",
    "    return res\n",
    "\n",
    "\n",
    "\n",
    "def save_model(model, pipe, path, prefix):\n",
    "    timestamp = dt.now().strftime('%Y-%m-%d %H:%M:%S')\n",
    "    filename_m = prefix + \"model_\" + timestamp + \".t\"\n",
    "    filename_p = prefix + \"pipe_\" + timestamp + \".pckl\"\n",
    "    \n",
    "    t.save(model.state_dict(), path + filename_m)\n",
    "    pipe.pack(path + filename_p)\n",
    "\n",
    "    "
   ]
  },
  {
   "cell_type": "code",
   "execution_count": 135,
   "metadata": {},
   "outputs": [
    {
     "name": "stderr",
     "output_type": "stream",
     "text": [
      "epoch 499, loss 23.720, mape_train [0.99 3.12], mape_test [1.02 3.14]: 100%|██████████| 500/500 [05:57<00:00,  1.40it/s]       \n"
     ]
    }
   ],
   "source": [
    "model = fc_model(train_ds.tensors[0].shape[1], layers=[256, 16, 2], device=DEVICE).to(device=DEVICE)\n",
    "optimizer = t.optim.Adam(model.parameters())\n",
    "loss_f = t.nn.MSELoss()\n",
    "\n",
    "sm = SummaryWriter(\"./runs\")\n",
    "\n",
    "train(train_ldr, test_ldr, model, optimizer, loss_f, 500, DEVICE, sm)\n",
    "save_model(model, pipe, \"./models/\", \"model_linear_\")"
   ]
  },
  {
   "cell_type": "code",
   "execution_count": 136,
   "metadata": {},
   "outputs": [],
   "source": [
    "# train(train_ldr, test_ldr, model, optimizer, loss_f, 200, DEVICE, sm)\n",
    "# save_model(model, pipe, \"./models/\", \"model_linear_\")"
   ]
  },
  {
   "cell_type": "code",
   "execution_count": null,
   "metadata": {},
   "outputs": [],
   "source": []
  },
  {
   "cell_type": "code",
   "execution_count": 137,
   "metadata": {},
   "outputs": [
    {
     "ename": "RuntimeError",
     "evalue": "Error(s) in loading state_dict for fc_model:\n\tsize mismatch for zero.0.weight: copying a param with shape torch.Size([256, 25]) from checkpoint, the shape in current model is torch.Size([512, 25]).\n\tsize mismatch for zero.0.bias: copying a param with shape torch.Size([256]) from checkpoint, the shape in current model is torch.Size([512]).\n\tsize mismatch for zero.2.weight: copying a param with shape torch.Size([16, 256]) from checkpoint, the shape in current model is torch.Size([64, 512]).\n\tsize mismatch for zero.2.bias: copying a param with shape torch.Size([16]) from checkpoint, the shape in current model is torch.Size([64]).\n\tsize mismatch for zero.4.weight: copying a param with shape torch.Size([2, 16]) from checkpoint, the shape in current model is torch.Size([2, 64]).\n\tsize mismatch for one.0.weight: copying a param with shape torch.Size([256, 25]) from checkpoint, the shape in current model is torch.Size([512, 25]).\n\tsize mismatch for one.0.bias: copying a param with shape torch.Size([256]) from checkpoint, the shape in current model is torch.Size([512]).\n\tsize mismatch for one.2.weight: copying a param with shape torch.Size([16, 256]) from checkpoint, the shape in current model is torch.Size([64, 512]).\n\tsize mismatch for one.2.bias: copying a param with shape torch.Size([16]) from checkpoint, the shape in current model is torch.Size([64]).\n\tsize mismatch for one.4.weight: copying a param with shape torch.Size([2, 16]) from checkpoint, the shape in current model is torch.Size([2, 64]).",
     "output_type": "error",
     "traceback": [
      "\u001b[0;31m---------------------------------------------------------------------------\u001b[0m",
      "\u001b[0;31mRuntimeError\u001b[0m                              Traceback (most recent call last)",
      "Cell \u001b[0;32mIn[137], line 2\u001b[0m\n\u001b[1;32m      1\u001b[0m model_ \u001b[39m=\u001b[39m fc_model(\u001b[39m25\u001b[39m, [\u001b[39m512\u001b[39m, \u001b[39m64\u001b[39m, \u001b[39m2\u001b[39m], DEVICE)\n\u001b[0;32m----> 2\u001b[0m model_\u001b[39m.\u001b[39;49mload_state_dict(t\u001b[39m.\u001b[39;49mload(\u001b[39m\"\u001b[39;49m\u001b[39m./submission/model.t\u001b[39;49m\u001b[39m\"\u001b[39;49m))\n\u001b[1;32m      3\u001b[0m model_ \u001b[39m=\u001b[39m model_\u001b[39m.\u001b[39mcpu()\n",
      "File \u001b[0;32m/media/thornail/LinuxOther/anaconda3/envs/ML2/lib/python3.10/site-packages/torch/nn/modules/module.py:2041\u001b[0m, in \u001b[0;36mModule.load_state_dict\u001b[0;34m(self, state_dict, strict)\u001b[0m\n\u001b[1;32m   2036\u001b[0m         error_msgs\u001b[39m.\u001b[39minsert(\n\u001b[1;32m   2037\u001b[0m             \u001b[39m0\u001b[39m, \u001b[39m'\u001b[39m\u001b[39mMissing key(s) in state_dict: \u001b[39m\u001b[39m{}\u001b[39;00m\u001b[39m. \u001b[39m\u001b[39m'\u001b[39m\u001b[39m.\u001b[39mformat(\n\u001b[1;32m   2038\u001b[0m                 \u001b[39m'\u001b[39m\u001b[39m, \u001b[39m\u001b[39m'\u001b[39m\u001b[39m.\u001b[39mjoin(\u001b[39m'\u001b[39m\u001b[39m\"\u001b[39m\u001b[39m{}\u001b[39;00m\u001b[39m\"\u001b[39m\u001b[39m'\u001b[39m\u001b[39m.\u001b[39mformat(k) \u001b[39mfor\u001b[39;00m k \u001b[39min\u001b[39;00m missing_keys)))\n\u001b[1;32m   2040\u001b[0m \u001b[39mif\u001b[39;00m \u001b[39mlen\u001b[39m(error_msgs) \u001b[39m>\u001b[39m \u001b[39m0\u001b[39m:\n\u001b[0;32m-> 2041\u001b[0m     \u001b[39mraise\u001b[39;00m \u001b[39mRuntimeError\u001b[39;00m(\u001b[39m'\u001b[39m\u001b[39mError(s) in loading state_dict for \u001b[39m\u001b[39m{}\u001b[39;00m\u001b[39m:\u001b[39m\u001b[39m\\n\u001b[39;00m\u001b[39m\\t\u001b[39;00m\u001b[39m{}\u001b[39;00m\u001b[39m'\u001b[39m\u001b[39m.\u001b[39mformat(\n\u001b[1;32m   2042\u001b[0m                        \u001b[39mself\u001b[39m\u001b[39m.\u001b[39m\u001b[39m__class__\u001b[39m\u001b[39m.\u001b[39m\u001b[39m__name__\u001b[39m, \u001b[39m\"\u001b[39m\u001b[39m\\n\u001b[39;00m\u001b[39m\\t\u001b[39;00m\u001b[39m\"\u001b[39m\u001b[39m.\u001b[39mjoin(error_msgs)))\n\u001b[1;32m   2043\u001b[0m \u001b[39mreturn\u001b[39;00m _IncompatibleKeys(missing_keys, unexpected_keys)\n",
      "\u001b[0;31mRuntimeError\u001b[0m: Error(s) in loading state_dict for fc_model:\n\tsize mismatch for zero.0.weight: copying a param with shape torch.Size([256, 25]) from checkpoint, the shape in current model is torch.Size([512, 25]).\n\tsize mismatch for zero.0.bias: copying a param with shape torch.Size([256]) from checkpoint, the shape in current model is torch.Size([512]).\n\tsize mismatch for zero.2.weight: copying a param with shape torch.Size([16, 256]) from checkpoint, the shape in current model is torch.Size([64, 512]).\n\tsize mismatch for zero.2.bias: copying a param with shape torch.Size([16]) from checkpoint, the shape in current model is torch.Size([64]).\n\tsize mismatch for zero.4.weight: copying a param with shape torch.Size([2, 16]) from checkpoint, the shape in current model is torch.Size([2, 64]).\n\tsize mismatch for one.0.weight: copying a param with shape torch.Size([256, 25]) from checkpoint, the shape in current model is torch.Size([512, 25]).\n\tsize mismatch for one.0.bias: copying a param with shape torch.Size([256]) from checkpoint, the shape in current model is torch.Size([512]).\n\tsize mismatch for one.2.weight: copying a param with shape torch.Size([16, 256]) from checkpoint, the shape in current model is torch.Size([64, 512]).\n\tsize mismatch for one.2.bias: copying a param with shape torch.Size([16]) from checkpoint, the shape in current model is torch.Size([64]).\n\tsize mismatch for one.4.weight: copying a param with shape torch.Size([2, 16]) from checkpoint, the shape in current model is torch.Size([2, 64])."
     ]
    }
   ],
   "source": [
    "model_ = fc_model(25, [512, 64, 2], DEVICE)\n",
    "model_.load_state_dict(t.load(\"./submission/model.t\"))\n",
    "model_ = model_.cpu()"
   ]
  },
  {
   "cell_type": "code",
   "execution_count": null,
   "metadata": {},
   "outputs": [
    {
     "data": {
      "text/plain": [
       "array([0.00533095, 0.0228748 ], dtype=float32)"
      ]
     },
     "execution_count": 30,
     "metadata": {},
     "output_type": "execute_result"
    }
   ],
   "source": [
    "model_.device = 'cpu'\n",
    "eval(test_ldr, model_)"
   ]
  },
  {
   "cell_type": "code",
   "execution_count": null,
   "metadata": {},
   "outputs": [],
   "source": [
    "pipe.pack(\"./src/pipe.pckl\")\n",
    "pipe = Pipe([])\n",
    "pipe.unpack(\"./src/pipe.pckl\")"
   ]
  },
  {
   "cell_type": "code",
   "execution_count": null,
   "metadata": {},
   "outputs": [
    {
     "data": {
      "text/plain": [
       "(<torch.utils.data.dataset.TensorDataset at 0x7fdd3472c1f0>,\n",
       " <torch.utils.data.dataloader.DataLoader at 0x7fdcc2f4bf10>)"
      ]
     },
     "execution_count": 55,
     "metadata": {},
     "output_type": "execute_result"
    }
   ],
   "source": [
    "pipe.transform(test.drop([\"target0\", \"target1\"], axis=1))"
   ]
  },
  {
   "cell_type": "code",
   "execution_count": null,
   "metadata": {},
   "outputs": [],
   "source": [
    "with open(\"./src/pipe_2023-05-27 18:20:59.pckl\", \"rb\") as f:\n",
    "    pipe_ = pickle.load(f)"
   ]
  },
  {
   "cell_type": "code",
   "execution_count": null,
   "metadata": {},
   "outputs": [],
   "source": [
    "preds = pred(test_ldr, model,DEVICE).to_numpy()\n",
    "diff = preds - test[[\"target0\", \"target1\"]].to_numpy()\n"
   ]
  },
  {
   "cell_type": "code",
   "execution_count": null,
   "metadata": {},
   "outputs": [
    {
     "data": {
      "text/plain": [
       "<matplotlib.collections.PathCollection at 0x7fdc506ce1a0>"
      ]
     },
     "execution_count": 81,
     "metadata": {},
     "output_type": "execute_result"
    },
    {
     "data": {
      "image/png": "[encoded data removed]",
      "text/plain": [
       "<Figure size 640x480 with 1 Axes>"
      ]
     },
     "metadata": {},
     "output_type": "display_data"
    }
   ],
   "source": [
    "plt.scatter(diff[:,0], diff[:,1])"
   ]
  }
 ],
 "metadata": {
  "kernelspec": {
   "display_name": "ML2",
   "language": "python",
   "name": "python3"
  },
  "language_info": {
   "codemirror_mode": {
    "name": "ipython",
    "version": 3
   },
   "file_extension": ".py",
   "mimetype": "text/x-python",
   "name": "python",
   "nbconvert_exporter": "python",
   "pygments_lexer": "ipython3",
   "version": "3.10.10"
  },
  "orig_nbformat": 4
 },
 "nbformat": 4,
 "nbformat_minor": 2
}
