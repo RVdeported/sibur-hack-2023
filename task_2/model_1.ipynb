{
 "cells": [
  {
   "cell_type": "code",
   "execution_count": 58,
   "metadata": {},
   "outputs": [],
   "source": [
    "from matplotlib import pyplot as plt"
   ]
  },
  {
   "cell_type": "code",
   "execution_count": 59,
   "metadata": {},
   "outputs": [],
   "source": [
    "import os\n",
    "from tqdm import tqdm\n",
    "import pathlib\n",
    "import numpy as np\n",
    "import pandas as pd\n",
    "import pickle\n",
    "from torch.utils.tensorboard import SummaryWriter\n",
    "\n",
    "from sklearn.metrics import mean_absolute_percentage_error as mape\n",
    "from sklearn.preprocessing import MinMaxScaler\n",
    "\n",
    "import torch as t\n",
    "\n",
    "from datetime import datetime as dt\n",
    "\n",
    "DEVICE = \"cuda\" if t.cuda.is_available() else 'cpu'\n",
    "\n",
    "tqdm.pandas()\n",
    "pd.set_option('display.max_columns', None)"
   ]
  },
  {
   "cell_type": "code",
   "execution_count": 60,
   "metadata": {},
   "outputs": [],
   "source": [
    "DATA_DIR = pathlib.Path(\"./data/\")\n",
    "RS = 3984765"
   ]
  },
  {
   "cell_type": "code",
   "execution_count": 61,
   "metadata": {},
   "outputs": [
    {
     "data": {
      "text/plain": [
       "(30684, 27)"
      ]
     },
     "execution_count": 61,
     "metadata": {},
     "output_type": "execute_result"
    }
   ],
   "source": [
    "train = pd.read_parquet(DATA_DIR.joinpath(\"train.parquet\"))\n",
    "index_split = int(train.shape[0] * 0.8)\n",
    "test = train[index_split:]\n",
    "train = train[:index_split]\n",
    "test.shape"
   ]
  },
  {
   "cell_type": "code",
   "execution_count": 62,
   "metadata": {},
   "outputs": [
    {
     "data": {
      "text/plain": [
       "63.37731798107359"
      ]
     },
     "execution_count": 62,
     "metadata": {},
     "output_type": "execute_result"
    }
   ],
   "source": [
    "train[\"feature0\"].quantile(0.99)"
   ]
  },
  {
   "cell_type": "code",
   "execution_count": 63,
   "metadata": {},
   "outputs": [],
   "source": [
    "\n",
    "\n",
    "class Pipe:\n",
    "    def __init__(self, cols_to_short, batch_size=64):\n",
    "        self.min_max = MinMaxScaler()\n",
    "        self.cols_to_short = cols_to_short\n",
    "        self.batch_size = batch_size\n",
    "\n",
    "\n",
    "    def fit(self, X: pd.DataFrame):\n",
    "        X_ = self.quntize(X)\n",
    "        X_[\"feature4\"] = (X_[\"feature4\"] == \"gas1\") * 1\n",
    "        self.min_max.fit(X_)\n",
    "\n",
    "    def quntize(self, X):\n",
    "        X_ = X.copy()\n",
    "        \n",
    "        for col in self.cols_to_short:\n",
    "            X_ = X_[X_[col] < X_[col].quantile(0.999)]\n",
    "        \n",
    "        return X_\n",
    "\n",
    "    def transform(self, X, y=None, train_df=False):\n",
    "        X_ = X.copy()\n",
    "        if y is not None:\n",
    "            y_ = y.copy()\n",
    "\n",
    "\n",
    "        if train_df:\n",
    "            X_ = self.quntize(X_)\n",
    "        if train_df and y is not None:\n",
    "            y_ = y_.iloc[X_.index]\n",
    "        \n",
    "\n",
    "        X_[\"feature4\"] = (X_[\"feature4\"] == \"gas1\") * 1\n",
    "        \n",
    "\n",
    "        X_ = pd.DataFrame(self.min_max.transform(X_), columns=X_.columns) \n",
    "        X_[\"cluster\"] = (X_[\"feature4\"] == 1) * 1\n",
    "        X_.drop(\"feature4\", axis=1, inplace=True)\n",
    "\n",
    "        X_t = t.tensor(X_.to_numpy(), dtype=t.float32)\n",
    "\n",
    "        if y is not None:\n",
    "            y_t = t.tensor(y_.to_numpy(), dtype=t.float32)\n",
    "            ds = t.utils.data.TensorDataset(X_t, y_t)\n",
    "        else:\n",
    "            ds = t.utils.data.TensorDataset(X_t)\n",
    "\n",
    "        ldr = t.utils.data.DataLoader(ds, batch_size=self.batch_size)\n",
    "\n",
    "        return ds, ldr\n",
    "    \n",
    "    def pack(self, path):\n",
    "        to_pack = {\n",
    "            \"scaler\" : self.min_max,\n",
    "            \"cols\" : self.cols_to_short,\n",
    "            \"batch_size\" : self.batch_size\n",
    "        }\n",
    "        with open(path, \"wb+\") as f:\n",
    "            pickle.dump(to_pack, f)\n",
    "    \n",
    "    def unpack(self, path):\n",
    "        with open(path, \"rb\") as f:\n",
    "            params = pickle.load(f)\n",
    "\n",
    "        self.batch_size = params[\"batch_size\"]\n",
    "        self.min_max = params[\"scaler\"]\n",
    "        self.cols_to_short = params[\"cols\"] \n",
    "\n",
    "    \n",
    "    \n",
    "\n",
    "pipe = Pipe(cols_to_short=[\n",
    "    \"feature0\",\n",
    "    \"feature1\",\n",
    "    \"feature2\",\n",
    "    \"feature3\",\n",
    "    \"feature5\",\n",
    "    \"feature7\",\n",
    "    \"feature12\",\n",
    "    \"feature15\",\n",
    "    \"feature17\",\n",
    "    ], batch_size=512)\n",
    "\n",
    "pipe.fit(train.drop([\"target0\", \"target1\"], axis=1))\n"
   ]
  },
  {
   "cell_type": "code",
   "execution_count": 64,
   "metadata": {},
   "outputs": [
    {
     "name": "stdout",
     "output_type": "stream",
     "text": [
      "(122733, 27)\n",
      "torch.Size([121629, 25])\n",
      "(30684, 27)\n",
      "torch.Size([30684, 25])\n"
     ]
    }
   ],
   "source": [
    "print(train.shape)\n",
    "train_ds, train_ldr = pipe.transform(\n",
    "    train.drop([\"target0\", \"target1\"], axis=1), \n",
    "    train[[\"target0\", \"target1\"]],\n",
    "    train_df=True)\n",
    "print(train_ds.tensors[0].shape)\n",
    "\n",
    "print(test.shape)\n",
    "test_ds, test_ldr = pipe.transform(\n",
    "    test.drop([\"target0\", \"target1\"], axis=1),\n",
    "    test[[\"target0\", \"target1\"]]\n",
    "    )\n",
    "print(test_ds.tensors[0].shape)"
   ]
  },
  {
   "cell_type": "code",
   "execution_count": 65,
   "metadata": {},
   "outputs": [],
   "source": [
    "class fc_model(t.nn.Module):\n",
    "    def __init__(self, input_dim, layers=[256, 16, 2], device='cpu'):\n",
    "        super().__init__()\n",
    "        self.device=device\n",
    "\n",
    "        self.zero = t.nn.Sequential(\n",
    "            t.nn.Linear(input_dim, layers[0]),\n",
    "            # t.nn.BatchNorm1d(layers[0]),\n",
    "            t.nn.ReLU(),\n",
    "            \n",
    "\n",
    "            t.nn.Linear(layers[0], layers[1]),\n",
    "            t.nn.ReLU(),\n",
    "            # t.nn.BatchNorm1d(layers[1]),\n",
    "            t.nn.Linear(layers[1], layers[2])\n",
    "        )\n",
    "        self.one = t.nn.Sequential(\n",
    "            t.nn.Linear(input_dim, layers[0]),\n",
    "            \n",
    "            t.nn.ReLU(),\n",
    "            # t.nn.BatchNorm1d(layers[0]),\n",
    "            t.nn.Linear(layers[0], layers[1]),\n",
    "            \n",
    "            t.nn.ReLU(),\n",
    "            # t.nn.BatchNorm1d(layers[1]),\n",
    "            t.nn.Linear(layers[1], layers[2])\n",
    "        )\n",
    "\n",
    "        # self.norm_scalar_1 = t.nn.Parameter(t.scalar_tensor(0.1, dtype=t.float32, requires_grad=True)) \n",
    "        # self.norm_scalar_2 = t.nn.Parameter(t.scalar_tensor(0.1, dtype=t.float32, requires_grad=True)) \n",
    "        # self.norm_params_1 = t.nn.Parameter(t.tensor([[55.0, 55.0], [10.0, 10.0]], dtype=t.float32, requires_grad=True)) \n",
    "        # self.norm_params_2 = t.nn.Parameter(t.tensor([[8.0, 8.0], [3.0, 3.0]], dtype=t.float32, requires_grad=True))\n",
    "        \n",
    "        # self.mean_1 = t.nn.Parameter(t.tensor([8.0, 8.0], dtype=t.float32, requires_grad=True))\n",
    "        # self.mean_2 = t.nn.Parameter(t.tensor([55.0, 55.0], dtype=t.float32, requires_grad=True))\n",
    "        # self.std_1 = t.nn.Parameter(t.tensor([3.0, 3.0], dtype=t.float32, requires_grad=True))\n",
    "        # self.std_2 = t.nn.Parameter(t.tensor([8.0, 8.0], dtype=t.float32, requires_grad=True))\n",
    "        \n",
    "        # self.puiss_scalar = t.scalar_tensor(0.1, dtype=t.float32, requires_grad=True)\n",
    "\n",
    "    def forward(self, X):\n",
    "        out = t.zeros((X.shape[0], 2), device=self.device, dtype=t.float32)\n",
    "        \n",
    "        inds_one = (X[:, -1] == t.scalar_tensor(1)).nonzero().T[0]\n",
    "        inds_zero = (X[:, -1] == t.scalar_tensor(0)).nonzero().T[0]\n",
    "\n",
    "        one = self.one(X[inds_one]) # + t.normal(self.mean_1, self.std_1) * self.norm_scalar_1\n",
    "        \n",
    "        zero = self.zero(X[inds_zero]) # + t.normal(self.mean_2, self.std_2) * self.norm_scalar_2\n",
    "\n",
    "        out[inds_one] = one\n",
    "        out[inds_zero] = zero\n",
    "\n",
    "        return out\n",
    "\n"
   ]
  },
  {
   "cell_type": "code",
   "execution_count": 66,
   "metadata": {},
   "outputs": [],
   "source": [
    "\n",
    "\n",
    "def train(train_ldr, \n",
    "          test_ldr, \n",
    "          model, \n",
    "          optimizer, \n",
    "          loss_f, \n",
    "          epochs=10, \n",
    "          device='cpu',\n",
    "          sm = None,\n",
    "          save_each = 20):\n",
    "    \n",
    "    global pipe\n",
    "\n",
    "    bar = tqdm(range(epochs))\n",
    "    for epoch in bar:\n",
    "        loss_cum = 0\n",
    "        for X, y in train_ldr:\n",
    "            optimizer.zero_grad()\n",
    "            out = model(X.to(device=device))\n",
    "            loss = loss_f(out, y.to(device=device))\n",
    "            loss.backward()\n",
    "            loss_cum += loss\n",
    "            optimizer.step()\n",
    "\n",
    "        eval_test = eval(test_ldr, model, device)\n",
    "        eval_train = eval(train_ldr, model, device)\n",
    "        bar.set_description(f'''epoch {epoch}, loss {loss_cum:.3f}, mape_train {(eval_train * 100).round(2)}, mape_test {(eval_test * 100).round(2)}''')\n",
    "        if sm is not None:\n",
    "            sm.add_scalar('Loss/train', loss_cum, epoch)\n",
    "            sm.add_scalar('MAPE/train', eval_train.sum() / 2, epoch)\n",
    "            sm.add_scalar('MAPE/test', eval_test.sum() / 2, epoch)\n",
    "        if epoch % 10 == 0:\n",
    "            save_model(model, pipe, \"./models/\", \"fc_\")\n",
    "\n",
    "\n",
    "\n",
    "\n",
    "def eval(test_ldr, model, device='cpu'):\n",
    "    \n",
    "    loss = np.array([0, 0], dtype=np.float32)\n",
    "    i=0\n",
    "    for X, y in test_ldr:\n",
    "        with t.no_grad():\n",
    "            out = model(X.to(device=device))\n",
    "            loss += mape(y, out.cpu().detach().numpy(), multioutput='raw_values')\n",
    "            i+=1\n",
    "\n",
    "    return loss / i\n",
    "\n",
    "def pred(ldr, model, device='cpu'):\n",
    "    res = t.tensor([], dtype=t.float32)\n",
    "\n",
    "    with t.no_grad():\n",
    "        for X, y in ldr:\n",
    "            out = model(X.to(device=device)).to('cpu')\n",
    "            res = t.cat([res,out], axis=0)\n",
    "    \n",
    "    res = pd.DataFrame(\n",
    "        res.detach().numpy(),\n",
    "        columns = [\"target0\", \"target1\"]\n",
    "    )\n",
    "\n",
    "    return res\n",
    "\n",
    "\n",
    "\n",
    "def save_model(model, pipe, path, prefix):\n",
    "    timestamp = dt.now().strftime('%Y-%m-%d %H:%M:%S')\n",
    "    filename_m = prefix + \"model_\" + timestamp + \".t\"\n",
    "    filename_p = prefix + \"pipe_\" + timestamp + \".pckl\"\n",
    "    \n",
    "    t.save(model.state_dict(), path + filename_m)\n",
    "    with open(path+filename_p, \"wb+\") as f:\n",
    "        pickle.dump([pipe], f, -1)\n",
    "\n",
    "    "
   ]
  },
  {
   "cell_type": "code",
   "execution_count": 71,
   "metadata": {},
   "outputs": [
    {
     "name": "stderr",
     "output_type": "stream",
     "text": [
      "epoch 355, loss 78.457, mape_train [0.45 1.88], mape_test [0.47 1.93]:  71%|███████   | 356/500 [09:42<03:52,  1.61s/it]   "
     ]
    }
   ],
   "source": [
    "model = fc_model(train_ds.tensors[0].shape[1], layers=[512, 64, 2], device=DEVICE).to(device=DEVICE)\n",
    "optimizer = t.optim.Adam(model.parameters())\n",
    "loss_f = t.nn.MSELoss()\n",
    "\n",
    "sm = SummaryWriter(\"./runs\")\n",
    "\n",
    "train(train_ldr, test_ldr, model, optimizer, loss_f, 500, DEVICE, sm)\n",
    "save_model(model, pipe, \"./models/\", \"model_linear_\")"
   ]
  },
  {
   "cell_type": "code",
   "execution_count": 68,
   "metadata": {},
   "outputs": [
    {
     "data": {
      "text/html": [
       "<div>\n",
       "<style scoped>\n",
       "    .dataframe tbody tr th:only-of-type {\n",
       "        vertical-align: middle;\n",
       "    }\n",
       "\n",
       "    .dataframe tbody tr th {\n",
       "        vertical-align: top;\n",
       "    }\n",
       "\n",
       "    .dataframe thead th {\n",
       "        text-align: right;\n",
       "    }\n",
       "</style>\n",
       "<table border=\"1\" class=\"dataframe\">\n",
       "  <thead>\n",
       "    <tr style=\"text-align: right;\">\n",
       "      <th></th>\n",
       "      <th>target0</th>\n",
       "      <th>target1</th>\n",
       "    </tr>\n",
       "  </thead>\n",
       "  <tbody>\n",
       "    <tr>\n",
       "      <th>0</th>\n",
       "      <td>75.400444</td>\n",
       "      <td>39.451164</td>\n",
       "    </tr>\n",
       "    <tr>\n",
       "      <th>1</th>\n",
       "      <td>75.434258</td>\n",
       "      <td>48.968521</td>\n",
       "    </tr>\n",
       "    <tr>\n",
       "      <th>2</th>\n",
       "      <td>18.958340</td>\n",
       "      <td>2.854556</td>\n",
       "    </tr>\n",
       "    <tr>\n",
       "      <th>3</th>\n",
       "      <td>32.652805</td>\n",
       "      <td>7.321374</td>\n",
       "    </tr>\n",
       "    <tr>\n",
       "      <th>4</th>\n",
       "      <td>78.701927</td>\n",
       "      <td>42.199982</td>\n",
       "    </tr>\n",
       "    <tr>\n",
       "      <th>...</th>\n",
       "      <td>...</td>\n",
       "      <td>...</td>\n",
       "    </tr>\n",
       "    <tr>\n",
       "      <th>30679</th>\n",
       "      <td>26.223734</td>\n",
       "      <td>4.336345</td>\n",
       "    </tr>\n",
       "    <tr>\n",
       "      <th>30680</th>\n",
       "      <td>19.790100</td>\n",
       "      <td>7.048435</td>\n",
       "    </tr>\n",
       "    <tr>\n",
       "      <th>30681</th>\n",
       "      <td>28.555611</td>\n",
       "      <td>5.647378</td>\n",
       "    </tr>\n",
       "    <tr>\n",
       "      <th>30682</th>\n",
       "      <td>71.569077</td>\n",
       "      <td>50.264404</td>\n",
       "    </tr>\n",
       "    <tr>\n",
       "      <th>30683</th>\n",
       "      <td>24.906471</td>\n",
       "      <td>3.330826</td>\n",
       "    </tr>\n",
       "  </tbody>\n",
       "</table>\n",
       "<p>30684 rows × 2 columns</p>\n",
       "</div>"
      ],
      "text/plain": [
       "         target0    target1\n",
       "0      75.400444  39.451164\n",
       "1      75.434258  48.968521\n",
       "2      18.958340   2.854556\n",
       "3      32.652805   7.321374\n",
       "4      78.701927  42.199982\n",
       "...          ...        ...\n",
       "30679  26.223734   4.336345\n",
       "30680  19.790100   7.048435\n",
       "30681  28.555611   5.647378\n",
       "30682  71.569077  50.264404\n",
       "30683  24.906471   3.330826\n",
       "\n",
       "[30684 rows x 2 columns]"
      ]
     },
     "execution_count": 68,
     "metadata": {},
     "output_type": "execute_result"
    }
   ],
   "source": [
    "pred(test_ldr, model, DEVICE)"
   ]
  },
  {
   "cell_type": "code",
   "execution_count": null,
   "metadata": {},
   "outputs": [],
   "source": [
    "model_ = fc_model(25, [512, 64, 2], DEVICE)\n",
    "model_.load_state_dict(t.load(\"./submission/model.t\"))\n",
    "model_ = model_.cpu()"
   ]
  },
  {
   "cell_type": "code",
   "execution_count": null,
   "metadata": {},
   "outputs": [
    {
     "data": {
      "text/plain": [
       "array([0.00533095, 0.0228748 ], dtype=float32)"
      ]
     },
     "execution_count": 30,
     "metadata": {},
     "output_type": "execute_result"
    }
   ],
   "source": [
    "model_.device = 'cpu'\n",
    "eval(test_ldr, model_)"
   ]
  },
  {
   "cell_type": "code",
   "execution_count": null,
   "metadata": {},
   "outputs": [],
   "source": [
    "pipe.pack(\"./src/pipe.pckl\")\n",
    "pipe = Pipe([])\n",
    "pipe.unpack(\"./src/pipe.pckl\")"
   ]
  },
  {
   "cell_type": "code",
   "execution_count": null,
   "metadata": {},
   "outputs": [
    {
     "data": {
      "text/plain": [
       "(<torch.utils.data.dataset.TensorDataset at 0x7fdd3472c1f0>,\n",
       " <torch.utils.data.dataloader.DataLoader at 0x7fdcc2f4bf10>)"
      ]
     },
     "execution_count": 55,
     "metadata": {},
     "output_type": "execute_result"
    }
   ],
   "source": [
    "pipe.transform(test.drop([\"target0\", \"target1\"], axis=1))"
   ]
  },
  {
   "cell_type": "code",
   "execution_count": null,
   "metadata": {},
   "outputs": [],
   "source": [
    "with open(\"./src/pipe_2023-05-27 18:20:59.pckl\", \"rb\") as f:\n",
    "    pipe_ = pickle.load(f)"
   ]
  }
 ],
 "metadata": {
  "kernelspec": {
   "display_name": "ML2",
   "language": "python",
   "name": "python3"
  },
  "language_info": {
   "codemirror_mode": {
    "name": "ipython",
    "version": 3
   },
   "file_extension": ".py",
   "mimetype": "text/x-python",
   "name": "python",
   "nbconvert_exporter": "python",
   "pygments_lexer": "ipython3",
   "version": "3.10.10"
  },
  "orig_nbformat": 4
 },
 "nbformat": 4,
 "nbformat_minor": 2
}
