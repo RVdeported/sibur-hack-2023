{
 "cells": [
  {
   "cell_type": "code",
   "execution_count": 247,
   "metadata": {},
   "outputs": [],
   "source": [
    "from matplotlib import pyplot as plt"
   ]
  },
  {
   "cell_type": "code",
   "execution_count": 277,
   "metadata": {},
   "outputs": [],
   "source": [
    "import os\n",
    "from tqdm import tqdm\n",
    "import pathlib\n",
    "import numpy as np\n",
    "import pandas as pd\n",
    "import pickle\n",
    "\n",
    "from sklearn.metrics import mean_absolute_percentage_error as mape\n",
    "from sklearn.preprocessing import MinMaxScaler\n",
    "\n",
    "import torch as t\n",
    "\n",
    "from datetime import datetime as dt\n",
    "\n",
    "DEVICE = \"cuda\" if t.cuda.is_available() else 'cpu'\n",
    "\n",
    "tqdm.pandas()\n",
    "pd.set_option('display.max_columns', None)"
   ]
  },
  {
   "cell_type": "code",
   "execution_count": 249,
   "metadata": {},
   "outputs": [],
   "source": [
    "DATA_DIR = pathlib.Path(\"./data/\")\n",
    "RS = 3984765"
   ]
  },
  {
   "cell_type": "code",
   "execution_count": 250,
   "metadata": {},
   "outputs": [
    {
     "data": {
      "text/plain": [
       "(30684, 27)"
      ]
     },
     "execution_count": 250,
     "metadata": {},
     "output_type": "execute_result"
    }
   ],
   "source": [
    "train = pd.read_parquet(DATA_DIR.joinpath(\"train.parquet\"))\n",
    "index_split = int(train.shape[0] * 0.8)\n",
    "test = train[index_split:]\n",
    "train = train[:index_split]\n",
    "test.shape"
   ]
  },
  {
   "cell_type": "code",
   "execution_count": 251,
   "metadata": {},
   "outputs": [
    {
     "data": {
      "text/plain": [
       "63.37731798107359"
      ]
     },
     "execution_count": 251,
     "metadata": {},
     "output_type": "execute_result"
    }
   ],
   "source": [
    "train[\"feature0\"].quantile(0.99)"
   ]
  },
  {
   "cell_type": "code",
   "execution_count": 252,
   "metadata": {},
   "outputs": [],
   "source": [
    "\n",
    "\n",
    "class Pipe:\n",
    "    def __init__(self, cols_to_short, batch_size=64):\n",
    "        self.min_max = MinMaxScaler()\n",
    "        self.cols_to_short = cols_to_short\n",
    "        self.batch_size = batch_size\n",
    "\n",
    "\n",
    "    def fit(self, X: pd.DataFrame):\n",
    "        X_ = self.quntize(X)\n",
    "        X_[\"feature4\"] = (X_[\"feature4\"] == \"gas1\") * 1\n",
    "        self.min_max.fit(X_)\n",
    "\n",
    "    def quntize(self, X):\n",
    "        X_ = X.copy()\n",
    "        \n",
    "        for col in self.cols_to_short:\n",
    "            X_ = X_[X_[col] < X_[col].quantile(0.999)]\n",
    "        \n",
    "        return X_\n",
    "\n",
    "    def transform(self, X, y=None, train_df=False):\n",
    "        X_ = X.copy()\n",
    "        if y is not None:\n",
    "            y_ = y.copy()\n",
    "\n",
    "\n",
    "        if train_df:\n",
    "            X_ = self.quntize(X_)\n",
    "        if train_df and y is not None:\n",
    "            y_ = y_.iloc[X_.index]\n",
    "        \n",
    "\n",
    "        X_[\"feature4\"] = (X_[\"feature4\"] == \"gas1\") * 1\n",
    "        \n",
    "\n",
    "        X_ = pd.DataFrame(self.min_max.transform(X_), columns=X_.columns) \n",
    "        X_[\"cluster\"] = (X_[\"feature4\"] == 1) * 1\n",
    "        X_.drop(\"feature4\", axis=1, inplace=True)\n",
    "\n",
    "        X_t = t.tensor(X_.to_numpy(), dtype=t.float32)\n",
    "\n",
    "        if y is not None:\n",
    "            y_t = t.tensor(y_.to_numpy(), dtype=t.float32)\n",
    "            ds = t.utils.data.TensorDataset(X_t, y_t)\n",
    "        else:\n",
    "            ds = t.utils.data.TensorDataset(X_t)\n",
    "\n",
    "        ldr = t.utils.data.DataLoader(ds, batch_size=self.batch_size)\n",
    "\n",
    "        return ds, ldr\n",
    "    \n",
    "    \n",
    "\n",
    "pipe = Pipe(cols_to_short=[\n",
    "    \"feature0\",\n",
    "    \"feature1\",\n",
    "    \"feature2\",\n",
    "    \"feature3\",\n",
    "    \"feature5\",\n",
    "    \"feature7\",\n",
    "    \"feature12\",\n",
    "    \"feature15\",\n",
    "    \"feature17\",\n",
    "    ], batch_size=256)\n",
    "\n",
    "pipe.fit(train.drop([\"target0\", \"target1\"], axis=1))\n"
   ]
  },
  {
   "cell_type": "code",
   "execution_count": 253,
   "metadata": {},
   "outputs": [
    {
     "name": "stdout",
     "output_type": "stream",
     "text": [
      "(122733, 27)\n",
      "torch.Size([121629, 25])\n",
      "(30684, 27)\n",
      "torch.Size([30684, 25])\n"
     ]
    }
   ],
   "source": [
    "print(train.shape)\n",
    "train_ds, train_ldr = pipe.transform(\n",
    "    train.drop([\"target0\", \"target1\"], axis=1), \n",
    "    train[[\"target0\", \"target1\"]],\n",
    "    train_df=True)\n",
    "print(train_ds.tensors[0].shape)\n",
    "\n",
    "print(test.shape)\n",
    "test_ds, test_ldr = pipe.transform(\n",
    "    test.drop([\"target0\", \"target1\"], axis=1),\n",
    "    test[[\"target0\", \"target1\"]]\n",
    "    )\n",
    "print(test_ds.tensors[0].shape)"
   ]
  },
  {
   "cell_type": "code",
   "execution_count": 254,
   "metadata": {},
   "outputs": [],
   "source": [
    "class fc_model(t.nn.Module):\n",
    "    def __init__(self, input_dim, layers=[256, 16, 2], device='cpu'):\n",
    "        super().__init__()\n",
    "        self.device=device\n",
    "\n",
    "        self.zero = t.nn.Sequential(\n",
    "            t.nn.Linear(input_dim, layers[0]),\n",
    "            # t.nn.BatchNorm1d(layers[0]),\n",
    "            t.nn.ReLU(),\n",
    "            \n",
    "\n",
    "            t.nn.Linear(layers[0], layers[1]),\n",
    "            t.nn.ReLU(),\n",
    "            # t.nn.BatchNorm1d(layers[1]),\n",
    "            t.nn.Linear(layers[1], layers[2])\n",
    "        )\n",
    "        self.one = t.nn.Sequential(\n",
    "            t.nn.Linear(input_dim, layers[0]),\n",
    "            \n",
    "            t.nn.ReLU(),\n",
    "            # t.nn.BatchNorm1d(layers[0]),\n",
    "            t.nn.Linear(layers[0], layers[1]),\n",
    "            \n",
    "            t.nn.ReLU(),\n",
    "            # t.nn.BatchNorm1d(layers[1]),\n",
    "            t.nn.Linear(layers[1], layers[2])\n",
    "        )\n",
    "\n",
    "        # self.norm_scalar_1 = t.nn.Parameter(t.scalar_tensor(0.1, dtype=t.float32, requires_grad=True)) \n",
    "        # self.norm_scalar_2 = t.nn.Parameter(t.scalar_tensor(0.1, dtype=t.float32, requires_grad=True)) \n",
    "        # self.norm_params_1 = t.nn.Parameter(t.tensor([[55.0, 55.0], [10.0, 10.0]], dtype=t.float32, requires_grad=True)) \n",
    "        # self.norm_params_2 = t.nn.Parameter(t.tensor([[8.0, 8.0], [3.0, 3.0]], dtype=t.float32, requires_grad=True))\n",
    "        \n",
    "        # self.mean_1 = t.nn.Parameter(t.tensor([8.0, 8.0], dtype=t.float32, requires_grad=True))\n",
    "        # self.mean_2 = t.nn.Parameter(t.tensor([55.0, 55.0], dtype=t.float32, requires_grad=True))\n",
    "        # self.std_1 = t.nn.Parameter(t.tensor([3.0, 3.0], dtype=t.float32, requires_grad=True))\n",
    "        # self.std_2 = t.nn.Parameter(t.tensor([8.0, 8.0], dtype=t.float32, requires_grad=True))\n",
    "        \n",
    "        # self.puiss_scalar = t.scalar_tensor(0.1, dtype=t.float32, requires_grad=True)\n",
    "\n",
    "    def forward(self, X):\n",
    "        out = t.zeros((X.shape[0], 2), device=self.device, dtype=t.float32)\n",
    "        \n",
    "        inds_one = (X[:, -1] == t.scalar_tensor(1)).nonzero().T[0]\n",
    "        inds_zero = (X[:, -1] == t.scalar_tensor(0)).nonzero().T[0]\n",
    "\n",
    "        one = self.one(X[inds_one]) # + t.normal(self.mean_1, self.std_1) * self.norm_scalar_1\n",
    "        \n",
    "        zero = self.zero(X[inds_zero]) # + t.normal(self.mean_2, self.std_2) * self.norm_scalar_2\n",
    "\n",
    "        out[inds_one] = one\n",
    "        out[inds_zero] = zero\n",
    "\n",
    "        return out\n",
    "\n"
   ]
  },
  {
   "cell_type": "code",
   "execution_count": 279,
   "metadata": {},
   "outputs": [],
   "source": [
    "\n",
    "\n",
    "def train(train_ldr, test_ldr, model, optimizer, loss_f, epochs=10, device='cpu'):\n",
    "\n",
    "    bar = tqdm(range(epochs))\n",
    "    for epoch in bar:\n",
    "        loss_cum = 0\n",
    "        for X, y in train_ldr:\n",
    "            optimizer.zero_grad()\n",
    "            out = model(X.to(device=device))\n",
    "            loss = loss_f(out, y.to(device=device))\n",
    "            loss.backward()\n",
    "            loss_cum += loss\n",
    "            optimizer.step()\n",
    "\n",
    "        eval_test = eval(test_ldr, model, device)\n",
    "        eval_train = eval(train_ldr, model, device)\n",
    "        bar.set_description(f'''epoch {epoch}, loss {loss_cum:.3f}, mape_train {(eval_train * 100).round(2)}, mape_test {(eval_test * 100).round(2)}''')\n",
    "        \n",
    "\n",
    "\n",
    "\n",
    "def eval(test_ldr, model, device='cpu'):\n",
    "    \n",
    "    loss = np.array([0, 0], dtype=np.float32)\n",
    "    i=0\n",
    "    for X, y in test_ldr:\n",
    "        with t.no_grad():\n",
    "            out = model(X.to(device=device))\n",
    "            loss += mape(y, out.cpu().detach().numpy(), multioutput='raw_values')\n",
    "            i+=1\n",
    "\n",
    "    return loss / i\n",
    "\n",
    "def pred(ldr, model, device='cpu'):\n",
    "    res = t.tensor([], dtype=t.float32)\n",
    "\n",
    "    with t.no_grad():\n",
    "        for X, y in ldr:\n",
    "            out = model(X.to(device=device)).to('cpu')\n",
    "            res = t.cat([res,out], axis=0)\n",
    "    \n",
    "    res = pd.DataFrame(\n",
    "        res.detach().numpy(),\n",
    "        columns = [\"target0\", \"target1\"]\n",
    "    )\n",
    "\n",
    "    return res\n",
    "\n",
    "\n",
    "\n",
    "def save_model(model, pipe, path, prefix):\n",
    "    timestamp = dt.now().strftime('%Y-%m-%d %H:%M:%S')\n",
    "    filename = prefix + timestamp + \".t\"\n",
    "    \n",
    "    t.save(\n",
    "        {\n",
    "            \"model\" : model,\n",
    "            \"pipeline\" : pipe\n",
    "        }, \n",
    "        path + filename)\n",
    "    "
   ]
  },
  {
   "cell_type": "code",
   "execution_count": 281,
   "metadata": {},
   "outputs": [
    {
     "name": "stderr",
     "output_type": "stream",
     "text": [
      "epoch 239, loss 80.664, mape_train [0.52 2.23], mape_test [0.53 2.29]: 100%|██████████| 240/240 [05:43<00:00,  1.43s/it]   \n"
     ]
    }
   ],
   "source": [
    "model = fc_model(train_ds.tensors[0].shape[1], layers=[512, 32, 2], device=DEVICE).to(device=DEVICE)\n",
    "optimizer = t.optim.Adam(model.parameters())\n",
    "loss_f = t.nn.MSELoss()\n",
    "\n",
    "\n",
    "train(train_ldr, test_ldr, model, optimizer, loss_f, 240, DEVICE)\n",
    "save_model(model, pipe, \"./models/\", \"model_linear_\")"
   ]
  },
  {
   "cell_type": "code",
   "execution_count": 266,
   "metadata": {},
   "outputs": [
    {
     "name": "stderr",
     "output_type": "stream",
     "text": [
      "epoch 19, loss 86.042, mape_train [0.57 2.26], mape_test [0.59 2.31]: 100%|██████████| 20/20 [00:28<00:00,  1.42s/it]\n"
     ]
    }
   ],
   "source": [
    "train(train_ldr, test_ldr, model, optimizer, loss_f, 20, DEVICE)\n",
    "save_model(model, pipe, \"./models/\", \"model_linear_\")"
   ]
  },
  {
   "cell_type": "code",
   "execution_count": 276,
   "metadata": {},
   "outputs": [
    {
     "data": {
      "text/html": [
       "<div>\n",
       "<style scoped>\n",
       "    .dataframe tbody tr th:only-of-type {\n",
       "        vertical-align: middle;\n",
       "    }\n",
       "\n",
       "    .dataframe tbody tr th {\n",
       "        vertical-align: top;\n",
       "    }\n",
       "\n",
       "    .dataframe thead th {\n",
       "        text-align: right;\n",
       "    }\n",
       "</style>\n",
       "<table border=\"1\" class=\"dataframe\">\n",
       "  <thead>\n",
       "    <tr style=\"text-align: right;\">\n",
       "      <th></th>\n",
       "      <th>target0</th>\n",
       "      <th>target1</th>\n",
       "    </tr>\n",
       "  </thead>\n",
       "  <tbody>\n",
       "    <tr>\n",
       "      <th>0</th>\n",
       "      <td>72.123795</td>\n",
       "      <td>42.224472</td>\n",
       "    </tr>\n",
       "    <tr>\n",
       "      <th>1</th>\n",
       "      <td>75.740616</td>\n",
       "      <td>45.607315</td>\n",
       "    </tr>\n",
       "    <tr>\n",
       "      <th>2</th>\n",
       "      <td>18.837950</td>\n",
       "      <td>2.674360</td>\n",
       "    </tr>\n",
       "    <tr>\n",
       "      <th>3</th>\n",
       "      <td>32.394615</td>\n",
       "      <td>6.500337</td>\n",
       "    </tr>\n",
       "    <tr>\n",
       "      <th>4</th>\n",
       "      <td>73.116585</td>\n",
       "      <td>43.655891</td>\n",
       "    </tr>\n",
       "    <tr>\n",
       "      <th>...</th>\n",
       "      <td>...</td>\n",
       "      <td>...</td>\n",
       "    </tr>\n",
       "    <tr>\n",
       "      <th>30679</th>\n",
       "      <td>26.171789</td>\n",
       "      <td>4.897091</td>\n",
       "    </tr>\n",
       "    <tr>\n",
       "      <th>30680</th>\n",
       "      <td>20.870686</td>\n",
       "      <td>7.275230</td>\n",
       "    </tr>\n",
       "    <tr>\n",
       "      <th>30681</th>\n",
       "      <td>27.915009</td>\n",
       "      <td>5.504703</td>\n",
       "    </tr>\n",
       "    <tr>\n",
       "      <th>30682</th>\n",
       "      <td>73.987183</td>\n",
       "      <td>44.766884</td>\n",
       "    </tr>\n",
       "    <tr>\n",
       "      <th>30683</th>\n",
       "      <td>24.644651</td>\n",
       "      <td>3.893284</td>\n",
       "    </tr>\n",
       "  </tbody>\n",
       "</table>\n",
       "<p>30684 rows × 2 columns</p>\n",
       "</div>"
      ],
      "text/plain": [
       "         target0    target1\n",
       "0      72.123795  42.224472\n",
       "1      75.740616  45.607315\n",
       "2      18.837950   2.674360\n",
       "3      32.394615   6.500337\n",
       "4      73.116585  43.655891\n",
       "...          ...        ...\n",
       "30679  26.171789   4.897091\n",
       "30680  20.870686   7.275230\n",
       "30681  27.915009   5.504703\n",
       "30682  73.987183  44.766884\n",
       "30683  24.644651   3.893284\n",
       "\n",
       "[30684 rows x 2 columns]"
      ]
     },
     "execution_count": 276,
     "metadata": {},
     "output_type": "execute_result"
    }
   ],
   "source": [
    "pred(test_ldr, model, DEVICE)"
   ]
  },
  {
   "cell_type": "code",
   "execution_count": 283,
   "metadata": {},
   "outputs": [
    {
     "ename": "ModuleNotFoundError",
     "evalue": "No module named 'utils'",
     "output_type": "error",
     "traceback": [
      "\u001b[0;31m---------------------------------------------------------------------------\u001b[0m",
      "\u001b[0;31mModuleNotFoundError\u001b[0m                       Traceback (most recent call last)",
      "Cell \u001b[0;32mIn[283], line 1\u001b[0m\n\u001b[0;32m----> 1\u001b[0m \u001b[39mfrom\u001b[39;00m \u001b[39msrc\u001b[39;00m\u001b[39m.\u001b[39;00m\u001b[39mpredict\u001b[39;00m \u001b[39mimport\u001b[39;00m predict\n\u001b[1;32m      3\u001b[0m predict(test)\n",
      "File \u001b[0;32m~/Desktop/Hacks/sibur-hack-2023/task_2/src/predict.py:3\u001b[0m\n\u001b[1;32m      1\u001b[0m \u001b[39mimport\u001b[39;00m \u001b[39mpathlib\u001b[39;00m\n\u001b[1;32m      2\u001b[0m \u001b[39mimport\u001b[39;00m \u001b[39mpandas\u001b[39;00m \u001b[39mas\u001b[39;00m \u001b[39mpd\u001b[39;00m\n\u001b[0;32m----> 3\u001b[0m \u001b[39mfrom\u001b[39;00m \u001b[39mutils\u001b[39;00m \u001b[39mimport\u001b[39;00m Pipe, pred\n\u001b[1;32m      4\u001b[0m \u001b[39mfrom\u001b[39;00m \u001b[39mmodels\u001b[39;00m \u001b[39mimport\u001b[39;00m fc_model\n\u001b[1;32m      5\u001b[0m \u001b[39mimport\u001b[39;00m \u001b[39mtorch\u001b[39;00m \u001b[39mas\u001b[39;00m \u001b[39mt\u001b[39;00m\n",
      "\u001b[0;31mModuleNotFoundError\u001b[0m: No module named 'utils'"
     ]
    }
   ],
   "source": [
    "from src.predict import predict\n",
    "\n",
    "predict(test)"
   ]
  }
 ],
 "metadata": {
  "kernelspec": {
   "display_name": "ML2",
   "language": "python",
   "name": "python3"
  },
  "language_info": {
   "codemirror_mode": {
    "name": "ipython",
    "version": 3
   },
   "file_extension": ".py",
   "mimetype": "text/x-python",
   "name": "python",
   "nbconvert_exporter": "python",
   "pygments_lexer": "ipython3",
   "version": "3.10.10"
  },
  "orig_nbformat": 4
 },
 "nbformat": 4,
 "nbformat_minor": 2
}
